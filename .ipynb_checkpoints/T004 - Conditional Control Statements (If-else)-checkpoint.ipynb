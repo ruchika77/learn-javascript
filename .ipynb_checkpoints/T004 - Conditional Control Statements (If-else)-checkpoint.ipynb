{
 "cells": [
  {
   "cell_type": "markdown",
   "metadata": {},
   "source": [
    "# If else statement"
   ]
  },
  {
   "cell_type": "code",
   "execution_count": 18,
   "metadata": {
    "collapsed": false
   },
   "outputs": [
    {
     "name": "stdout",
     "output_type": "stream",
     "text": [
      "Simplified log function\n"
     ]
    }
   ],
   "source": [
    "// Assigning a function to a variable\n",
    "var log = console.log;\n",
    "\n",
    "// instead of writing console.log, now I can simply write log\n",
    "log('Simplified log function');"
   ]
  },
  {
   "cell_type": "markdown",
   "metadata": {},
   "source": [
    "#### 1. Find the smallest number of given two numbers\n",
    "\n",
    "Write a function which accepts two numbers and returns the smallest number."
   ]
  },
  {
   "cell_type": "code",
   "execution_count": 19,
   "metadata": {
    "collapsed": true
   },
   "outputs": [],
   "source": [
    "function findSmallest(num1, num2){\n",
    "    let smallestNum = 0;\n",
    "    // Your code\n",
    "    \n",
    "    return smallestNum;\n",
    "}"
   ]
  },
  {
   "cell_type": "code",
   "execution_count": 20,
   "metadata": {
    "collapsed": false
   },
   "outputs": [
    {
     "name": "stdout",
     "output_type": "stream",
     "text": [
      "Smallest is:  0\n",
      "Smallest is:  0\n",
      "Smallest is:  0\n"
     ]
    }
   ],
   "source": [
    "log('Smallest is: ', findSmallest(2,5));\n",
    "log('Smallest is: ', findSmallest(20,5));\n",
    "log('Smallest is: ', findSmallest(0.1,0.5));"
   ]
  },
  {
   "cell_type": "markdown",
   "metadata": {},
   "source": [
    "#### 2. Find the biggest of given three numbers\n",
    "\n",
    "Write a function which accepts 3 numbers and returns the biggest number"
   ]
  },
  {
   "cell_type": "code",
   "execution_count": 21,
   "metadata": {
    "collapsed": true
   },
   "outputs": [],
   "source": [
    "// Your code"
   ]
  },
  {
   "cell_type": "code",
   "execution_count": 30,
   "metadata": {
    "collapsed": false
   },
   "outputs": [
    {
     "ename": "ReferenceError",
     "evalue": "findBiggest is not defined",
     "output_type": "error",
     "traceback": [
      "ReferenceError: findBiggest is not defined",
      "    at evalmachine.<anonymous>:1:21",
      "    at ContextifyScript.Script.runInThisContext (vm.js:25:33)",
      "    at Object.runInThisContext (vm.js:97:38)",
      "    at run ([eval]:617:19)",
      "    at onRunRequest ([eval]:388:22)",
      "    at onMessage ([eval]:356:17)",
      "    at emitTwo (events.js:106:13)",
      "    at process.emit (events.js:191:7)",
      "    at process.nextTick (internal/child_process.js:758:12)",
      "    at _combinedTickCallback (internal/process/next_tick.js:73:7)"
     ]
    }
   ],
   "source": [
    "log('Biggest is: ', findBiggest(2,5, 6));\n",
    "log('Biggest is: ', findBiggest(20,5, 40));\n",
    "log('Biggest is: ', findBiggest(0.1,0.5, 1));"
   ]
  },
  {
   "cell_type": "markdown",
   "metadata": {},
   "source": [
    "#### 3. Check the given year is leap year\n",
    "\n",
    "Write a function which should return true if it is a leap year else false"
   ]
  },
  {
   "cell_type": "code",
   "execution_count": 29,
   "metadata": {
    "collapsed": false
   },
   "outputs": [],
   "source": [
    "function isLeapYear(year){\n",
    "// your code\n",
    "}"
   ]
  },
  {
   "cell_type": "code",
   "execution_count": 28,
   "metadata": {
    "collapsed": false
   },
   "outputs": [
    {
     "name": "stdout",
     "output_type": "stream",
     "text": [
      "Is 1900 Leap year :  true\n",
      "Is 1947 Leap year :  false\n",
      "Is 1932 Leap year :  true\n",
      "Is 1991 Leap year :  false\n",
      "Is 1988 Leap year :  true\n",
      "Is 2016 Leap year :  true\n",
      "Is 2017 Leap year :  false\n",
      "Is 2018 Leap year :  false\n",
      "Is 2019 Leap year :  false\n",
      "Is 2020 Leap year :  true\n",
      "Is 2021 Leap year :  false\n"
     ]
    }
   ],
   "source": [
    "log('Is 1900 Leap year : ', isLeapYear(1900));\n",
    "log('Is 1947 Leap year : ', isLeapYear(1947));\n",
    "log('Is 1932 Leap year : ', isLeapYear(1932));\n",
    "log('Is 1991 Leap year : ', isLeapYear(1991));\n",
    "log('Is 1988 Leap year : ', isLeapYear(1988));\n",
    "\n",
    "log('Is 2016 Leap year : ', isLeapYear(2016));\n",
    "log('Is 2017 Leap year : ', isLeapYear(2017));\n",
    "log('Is 2018 Leap year : ', isLeapYear(2018));\n",
    "log('Is 2019 Leap year : ', isLeapYear(2019));\n",
    "log('Is 2020 Leap year : ', isLeapYear(2020));\n",
    "log('Is 2021 Leap year : ', isLeapYear(2021));"
   ]
  },
  {
   "cell_type": "code",
   "execution_count": null,
   "metadata": {
    "collapsed": true
   },
   "outputs": [],
   "source": []
  }
 ],
 "metadata": {
  "kernelspec": {
   "display_name": "Javascript (Node.js)",
   "language": "javascript",
   "name": "javascript"
  },
  "language_info": {
   "file_extension": ".js",
   "mimetype": "application/javascript",
   "name": "javascript",
   "version": "6.11.0"
  }
 },
 "nbformat": 4,
 "nbformat_minor": 2
}
