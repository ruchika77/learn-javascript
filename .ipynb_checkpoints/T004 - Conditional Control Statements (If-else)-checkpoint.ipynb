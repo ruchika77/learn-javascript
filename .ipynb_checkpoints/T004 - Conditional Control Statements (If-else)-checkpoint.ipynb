{
 "cells": [
  {
   "cell_type": "markdown",
   "metadata": {},
   "source": [
    "## Assigning a Function"
   ]
  },
  {
   "cell_type": "code",
   "execution_count": 8,
   "metadata": {},
   "outputs": [
    {
     "name": "stdout",
     "output_type": "stream",
     "text": [
      "Simplified log function\n"
     ]
    }
   ],
   "source": [
    "// Assigning a function to a variable\n",
    "var log = console.log;\n",
    "// Now variable log is refering to console.log function\n",
    "// you can calll console.log as just by using log\n",
    "\n",
    "// instead of writing console.log, now I can simply write log\n",
    "log('Simplified log function');"
   ]
  },
  {
   "cell_type": "markdown",
   "metadata": {},
   "source": [
    "## Returning a value from a function"
   ]
  },
  {
   "cell_type": "code",
   "execution_count": 9,
   "metadata": {
    "collapsed": true
   },
   "outputs": [],
   "source": [
    "function add(n1, n2){\n",
    "    return n1+n2;\n",
    "}"
   ]
  },
  {
   "cell_type": "code",
   "execution_count": 17,
   "metadata": {
    "scrolled": true
   },
   "outputs": [
    {
     "name": "stdout",
     "output_type": "stream",
     "text": [
      "2+3= 5\n",
      "5+6= 11\n"
     ]
    }
   ],
   "source": [
    "// invoking a function which returns a value\n",
    "log('2+3=', add(2,3));\n",
    "log('5+6=', add(5,6));"
   ]
  },
  {
   "cell_type": "markdown",
   "metadata": {},
   "source": [
    "# If Else statements"
   ]
  },
  {
   "cell_type": "markdown",
   "metadata": {},
   "source": [
    "#### 1. Find the smallest number of given two numbers\n",
    "\n",
    "Write a function which accepts two numbers and returns the smallest number."
   ]
  },
  {
   "cell_type": "code",
   "execution_count": 22,
   "metadata": {
    "collapsed": true
   },
   "outputs": [],
   "source": [
    "function findSmallest(num1, num2){\n",
    "    let smallestNum = 0;\n",
    "    // Your code\n",
    "        if(num1<num2){\n",
    "            smallestNum = num1;\n",
    "        }\n",
    "        else{\n",
    "            smallestNum = num2;\n",
    "        }\n",
    "    return smallestNum;\n",
    "}"
   ]
  },
  {
   "cell_type": "code",
   "execution_count": 23,
   "metadata": {},
   "outputs": [
    {
     "name": "stdout",
     "output_type": "stream",
     "text": [
      "Smallest is:  2\n",
      "Smallest is:  5\n",
      "Smallest is:  0.1\n"
     ]
    }
   ],
   "source": [
    "log('Smallest is: ', findSmallest(2,5));\n",
    "log('Smallest is: ', findSmallest(20,5));\n",
    "log('Smallest is: ', findSmallest(0.1,0.5));"
   ]
  },
  {
   "cell_type": "markdown",
   "metadata": {},
   "source": [
    "#### 2. Find the largest of given three numbers\n",
    "\n",
    "Write a function which accepts 3 numbers and returns the largest number"
   ]
  },
  {
   "cell_type": "code",
   "execution_count": 31,
   "metadata": {},
   "outputs": [],
   "source": [
    "function findLargest(num1,num2,num3){\n",
    "    let largestNum = 0;\n",
    "    if(num1>num2){\n",
    "        largestNum = num1;\n",
    "    }\n",
    "    else if(num2>num3){\n",
    "        largestNum = num2;\n",
    "    }\n",
    "    else{\n",
    "        largestNum = num3;\n",
    "    }\n",
    "    return largestNum;\n",
    "}"
   ]
  },
  {
   "cell_type": "code",
   "execution_count": 32,
   "metadata": {},
   "outputs": [
    {
     "name": "stdout",
     "output_type": "stream",
     "text": [
      "Largest is:  20\n",
      "Largest is:  50\n",
      "Largest is:  1\n"
     ]
    }
   ],
   "source": [
    "log('Largest is: ', findLargest(20,5, 6));\n",
    "log('Largest is: ', findLargest(10,50, 20));\n",
    "log('Largest is: ', findLargest(0.1,0.5, 1));"
   ]
  },
  {
   "cell_type": "markdown",
   "metadata": {},
   "source": [
    "#### 3. Check the given year is leap year\n",
    "\n",
    "Write a function which should return true if it is a leap year else false"
   ]
  },
  {
   "cell_type": "code",
   "execution_count": 44,
   "metadata": {},
   "outputs": [],
   "source": [
    "function isLeapYear(year){\n",
    "    if(year%4==0){\n",
    "        return true;\n",
    "    }\n",
    "    else{\n",
    "      return false;\n",
    "    }\n",
    "\n",
    "}"
   ]
  },
  {
   "cell_type": "code",
   "execution_count": 45,
   "metadata": {},
   "outputs": [
    {
     "name": "stdout",
     "output_type": "stream",
     "text": [
      "Is 1900 Leap year :  true\n",
      "Is 1947 Leap year :  false\n",
      "Is 1932 Leap year :  true\n",
      "Is 1991 Leap year :  false\n",
      "Is 1988 Leap year :  true\n",
      "Is 2016 Leap year :  true\n",
      "Is 2017 Leap year :  false\n",
      "Is 2018 Leap year :  false\n",
      "Is 2019 Leap year :  false\n",
      "Is 2020 Leap year :  true\n",
      "Is 2021 Leap year :  false\n"
     ]
    }
   ],
   "source": [
    "log('Is 1900 Leap year : ', isLeapYear(1900));\n",
    "log('Is 1947 Leap year : ', isLeapYear(1947));\n",
    "log('Is 1932 Leap year : ', isLeapYear(1932));\n",
    "log('Is 1991 Leap year : ', isLeapYear(1991));\n",
    "log('Is 1988 Leap year : ', isLeapYear(1988));\n",
    "\n",
    "log('Is 2016 Leap year : ', isLeapYear(2016));\n",
    "log('Is 2017 Leap year : ', isLeapYear(2017));\n",
    "log('Is 2018 Leap year : ', isLeapYear(2018));\n",
    "log('Is 2019 Leap year : ', isLeapYear(2019));\n",
    "log('Is 2020 Leap year : ', isLeapYear(2020));\n",
    "log('Is 2021 Leap year : ', isLeapYear(2021));"
   ]
  },
  {
   "cell_type": "code",
   "execution_count": null,
   "metadata": {
    "collapsed": true
   },
   "outputs": [],
   "source": []
  }
 ],
 "metadata": {
  "kernelspec": {
   "display_name": "Javascript (Node.js)",
   "language": "javascript",
   "name": "javascript"
  },
  "language_info": {
   "file_extension": ".js",
   "mimetype": "application/javascript",
   "name": "javascript",
   "version": "8.1.2"
  }
 },
 "nbformat": 4,
 "nbformat_minor": 2
}
