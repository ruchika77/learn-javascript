{
 "cells": [
  {
   "cell_type": "markdown",
   "metadata": {},
   "source": [
    "# JavaScript String Methods\n",
    "\n",
    "https://www.w3schools.com/js/js_string_methods.asp"
   ]
  },
  {
   "cell_type": "code",
   "execution_count": 1,
   "metadata": {
    "collapsed": true
   },
   "outputs": [],
   "source": [
    "var msg1 = \"I love JavaScript\";"
   ]
  },
  {
   "cell_type": "markdown",
   "metadata": {},
   "source": [
    "### 1. String Length"
   ]
  },
  {
   "cell_type": "code",
   "execution_count": 3,
   "metadata": {},
   "outputs": [
    {
     "data": {
      "text/plain": [
       "17"
      ]
     },
     "execution_count": 3,
     "metadata": {},
     "output_type": "execute_result"
    }
   ],
   "source": [
    "// Write a program to find the length of msg1\n",
    "msg1.length;"
   ]
  },
  {
   "cell_type": "markdown",
   "metadata": {},
   "source": [
    "### 2. Finding a String in a String"
   ]
  },
  {
   "cell_type": "code",
   "execution_count": 60,
   "metadata": {
    "collapsed": true
   },
   "outputs": [],
   "source": [
    "function msg1hasText(testMsg){\n",
    "  let result = false;\n",
    "    // your code to check if testMsg exists in msg1\n",
    "       var str = msg1.indexOf(testMsg);\n",
    "        if (str>=0){\n",
    "            result = true;\n",
    "        }\n",
    "        else{\n",
    "           result = false;\n",
    "        }\n",
    "    return result;\n",
    "}"
   ]
  },
  {
   "cell_type": "code",
   "execution_count": 61,
   "metadata": {
    "scrolled": true
   },
   "outputs": [
    {
     "name": "stdout",
     "output_type": "stream",
     "text": [
      "msg1 has \"Java\" true\n",
      "msg1 has \"hate\" false\n"
     ]
    }
   ],
   "source": [
    "console.log('msg1 has \"Java\"', msg1hasText('love')); // true\n",
    "console.log('msg1 has \"hate\"', msg1hasText('hate')); // false"
   ]
  },
  {
   "cell_type": "markdown",
   "metadata": {},
   "source": [
    "### 3. Searching for a String in a String\n",
    "\n",
    "Write a function which accepts one txtMsg string and finds the position of txtMsg in msg1"
   ]
  },
  {
   "cell_type": "code",
   "execution_count": 62,
   "metadata": {
    "collapsed": true
   },
   "outputs": [],
   "source": [
    "// Your code\n",
    "// define function findPostionInMsg1 and put logic init\n",
    "function findPositionInMsg1(testMsg){\n",
    "    let result = 0;\n",
    "    var position = msg1.search(testMsg);\n",
    "    if(position>=0){\n",
    "        result = position;\n",
    "    }\n",
    "    else{\n",
    "        result = -1;\n",
    "    }\n",
    "    return result;\n",
    "}"
   ]
  },
  {
   "cell_type": "code",
   "execution_count": 64,
   "metadata": {},
   "outputs": [
    {
     "name": "stdout",
     "output_type": "stream",
     "text": [
      "position of \"love\" in msg1 2\n",
      "position of \"I\" in msg1 0\n"
     ]
    }
   ],
   "source": [
    "console.log('position of \"love\" in msg1', findPositionInMsg1('love'));\n",
    "console.log('position of \"I\" in msg1', findPositionInMsg1('I'));"
   ]
  },
  {
   "cell_type": "markdown",
   "metadata": {},
   "source": [
    "#### What is the difference of indexOf() & search()\n",
    "\n",
    "Answer : The two methods are quite equal. These are the differences:\n",
    "\n",
    "The search() method cannot take a second start position argument.\n",
    "The search() method can take much more powerful search values (regular expressions)."
   ]
  },
  {
   "cell_type": "markdown",
   "metadata": {},
   "source": [
    "### 4. Extracting String Parts"
   ]
  },
  {
   "cell_type": "markdown",
   "metadata": {},
   "source": [
    "There are 3 methods for extracting a part of a string:\n",
    "\n",
    "- slice(start, end)\n",
    "- substring(start, end)\n",
    "- substr(start, length)"
   ]
  },
  {
   "cell_type": "code",
   "execution_count": 70,
   "metadata": {},
   "outputs": [
    {
     "name": "stdout",
     "output_type": "stream",
     "text": [
      "Java\n"
     ]
    }
   ],
   "source": [
    "// Use above all 3 methods and understand them\n",
    "// example for slice method\n",
    "var sliceEg = msg1.slice(-10,-6);\n",
    "console.log(sliceEg);"
   ]
  },
  {
   "cell_type": "code",
   "execution_count": 71,
   "metadata": {},
   "outputs": [
    {
     "name": "stdout",
     "output_type": "stream",
     "text": [
      "love\n"
     ]
    }
   ],
   "source": [
    "// example for substring method\n",
    "var substringEg = msg1.substring(2,6);\n",
    "console.log(substringEg);"
   ]
  },
  {
   "cell_type": "code",
   "execution_count": 75,
   "metadata": {},
   "outputs": [
    {
     "name": "stdout",
     "output_type": "stream",
     "text": [
      "love\n"
     ]
    }
   ],
   "source": [
    "// example for substr method\n",
    "var substrEg = msg1.substr(2,4);\n",
    "console.log(substrEg);"
   ]
  },
  {
   "cell_type": "markdown",
   "metadata": {},
   "source": [
    "#### 4.1 Use the slice() method to display only \"Banana,Kiwi\"."
   ]
  },
  {
   "cell_type": "code",
   "execution_count": 34,
   "metadata": {},
   "outputs": [
    {
     "name": "stdout",
     "output_type": "stream",
     "text": [
      "Banana,Kiwi\n"
     ]
    }
   ],
   "source": [
    "var str = \"Apple,Banana,Kiwi\";\n",
    "let disResl = str.slice(6,17);\n",
    "console.log(disResl);\n",
    "// Your code here"
   ]
  },
  {
   "cell_type": "markdown",
   "metadata": {},
   "source": [
    "### 5. Replacing String Content"
   ]
  },
  {
   "cell_type": "code",
   "execution_count": 23,
   "metadata": {
    "collapsed": true
   },
   "outputs": [],
   "source": [
    "// Write a program to replace \"love\" with \"always love\" in msg1"
   ]
  },
  {
   "cell_type": "markdown",
   "metadata": {},
   "source": [
    "##### 5.1 Use the replace() method to replace \"World\" with \"Universe\"."
   ]
  },
  {
   "cell_type": "code",
   "execution_count": 76,
   "metadata": {},
   "outputs": [
    {
     "data": {
      "text/plain": [
       "'Hello Universe'"
      ]
     },
     "execution_count": 76,
     "metadata": {},
     "output_type": "execute_result"
    }
   ],
   "source": [
    "var txt = \"Hello World\";\n",
    "// Your code here\n",
    "txt.replace(\"World\",\"Universe\");"
   ]
  },
  {
   "cell_type": "markdown",
   "metadata": {},
   "source": [
    "### 6. Converting to Upper and Lower Case"
   ]
  },
  {
   "cell_type": "code",
   "execution_count": 81,
   "metadata": {},
   "outputs": [
    {
     "name": "stdout",
     "output_type": "stream",
     "text": [
      "HELLO WORLD\n",
      "hello world\n"
     ]
    }
   ],
   "source": [
    "txt1 = txt.toUpperCase();\n",
    "console.log(txt1);\n",
    "txt2 = txt1.toLowerCase();\n",
    "console.log(txt2);"
   ]
  },
  {
   "cell_type": "markdown",
   "metadata": {},
   "source": [
    "### 7. Concat two strings"
   ]
  },
  {
   "cell_type": "code",
   "execution_count": 87,
   "metadata": {
    "collapsed": true
   },
   "outputs": [],
   "source": [
    "var txt1 = \"Shiva\";\n",
    "var txt2 = \"Weds\";\n",
    "var txt3 = \"Ruchika\";"
   ]
  },
  {
   "cell_type": "code",
   "execution_count": 90,
   "metadata": {},
   "outputs": [
    {
     "name": "stdout",
     "output_type": "stream",
     "text": [
      "ShivaWedsRuchika\n"
     ]
    }
   ],
   "source": [
    "// Concat using + operator\n",
    "var txt4 = txt1+txt2+txt3;\n",
    "//var txt5 = txt4.concat(txt3);\n",
    "console.log(txt4);"
   ]
  },
  {
   "cell_type": "code",
   "execution_count": 17,
   "metadata": {
    "collapsed": true
   },
   "outputs": [],
   "source": [
    "// Concat using ES6 string template\n"
   ]
  },
  {
   "cell_type": "code",
   "execution_count": 89,
   "metadata": {},
   "outputs": [
    {
     "name": "stdout",
     "output_type": "stream",
     "text": [
      "ShivaWedsRuchika\n"
     ]
    }
   ],
   "source": [
    "// Concat using .concat() method\n",
    "var txt4 = txt1.concat(txt2);\n",
    "var txt5 = txt4.concat(txt3);\n",
    "console.log(txt5);"
   ]
  },
  {
   "cell_type": "markdown",
   "metadata": {},
   "source": [
    "### 8. Converting a String to an Array"
   ]
  },
  {
   "cell_type": "code",
   "execution_count": 92,
   "metadata": {
    "collapsed": true
   },
   "outputs": [],
   "source": [
    "var eg1 = \"a,b,c,d,e\";\n",
    "var eg2 = \"a b c d e\";\n",
    "var eg3 = \"a;b;c;d;e;\";"
   ]
  },
  {
   "cell_type": "code",
   "execution_count": 93,
   "metadata": {
    "collapsed": true
   },
   "outputs": [],
   "source": [
    "// Split eg1 by commas\n",
    "// Split eg2 by spaces\n",
    "// Split eg3 by semi-colon"
   ]
  },
  {
   "cell_type": "code",
   "execution_count": 94,
   "metadata": {},
   "outputs": [
    {
     "data": {
      "text/plain": [
       "[ 'a', 'b', 'c', 'd', 'e' ]"
      ]
     },
     "execution_count": 94,
     "metadata": {},
     "output_type": "execute_result"
    }
   ],
   "source": [
    "eg1.split(\",\");"
   ]
  },
  {
   "cell_type": "code",
   "execution_count": 95,
   "metadata": {},
   "outputs": [
    {
     "data": {
      "text/plain": [
       "[ 'a,b,c,d,e' ]"
      ]
     },
     "execution_count": 95,
     "metadata": {},
     "output_type": "execute_result"
    }
   ],
   "source": [
    "eg1.split(\" \");"
   ]
  },
  {
   "cell_type": "code",
   "execution_count": 96,
   "metadata": {},
   "outputs": [
    {
     "data": {
      "text/plain": [
       "[ 'a,b,c,d,e' ]"
      ]
     },
     "execution_count": 96,
     "metadata": {},
     "output_type": "execute_result"
    }
   ],
   "source": [
    "eg1.split(\";\");"
   ]
  },
  {
   "cell_type": "code",
   "execution_count": null,
   "metadata": {
    "collapsed": true
   },
   "outputs": [],
   "source": []
  }
 ],
 "metadata": {
  "kernelspec": {
   "display_name": "Javascript (Node.js)",
   "language": "javascript",
   "name": "javascript"
  },
  "language_info": {
   "file_extension": ".js",
   "mimetype": "application/javascript",
   "name": "javascript",
   "version": "8.1.2"
  }
 },
 "nbformat": 4,
 "nbformat_minor": 2
}
