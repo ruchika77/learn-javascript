{
 "cells": [
  {
   "cell_type": "markdown",
   "metadata": {},
   "source": [
    "### Palindrome number"
   ]
  },
  {
   "cell_type": "code",
   "execution_count": 8,
   "metadata": {
    "collapsed": true
   },
   "outputs": [],
   "source": [
    "function reverseNum(n){\n",
    "    var rev= 0;\n",
    "    while(n>1){\n",
    "        let remainder = n%10;\n",
    "        rev = rev*10+remainder;\n",
    "        n=n/10;\n",
    "        n=~~n;\n",
    "        console.log(rev);\n",
    "        var temp=num;\n",
    "        if(temp==rev){\n",
    "            console.log(\"Number is palindrome\");\n",
    "        }\n",
    "        else{\n",
    "            console.log(\"Number is not palindrome\");\n",
    "        }\n",
    "\n",
    "    }\n",
    "}"
   ]
  },
  {
   "cell_type": "code",
   "execution_count": 10,
   "metadata": {},
   "outputs": [
    {
     "name": "stdout",
     "output_type": "stream",
     "text": [
      "2\n",
      "Number is not palindrome\n",
      "23\n",
      "Number is not palindrome\n",
      "233\n",
      "Number is not palindrome\n",
      "2332\n",
      "Number is not palindrome\n"
     ]
    }
   ],
   "source": [
    "reverseNum(2332);"
   ]
  },
  {
   "cell_type": "code",
   "execution_count": 11,
   "metadata": {
    "collapsed": true
   },
   "outputs": [],
   "source": [
    "function palindrome(n){\n",
    "    temp=n;\n",
    "    reverseNum(n);\n",
    "    if(temp==n){\n",
    "        console.log(\"Number is palindrome\");\n",
    "    }\n",
    "    else{\n",
    "        console.log(\"Number is not palindrome\");\n",
    "    }\n",
    "}"
   ]
  },
  {
   "cell_type": "code",
   "execution_count": 7,
   "metadata": {},
   "outputs": [
    {
     "name": "stdout",
     "output_type": "stream",
     "text": [
      "6\n",
      "Number is palindrome\n"
     ]
    }
   ],
   "source": [
    "palindrome(67545459876);"
   ]
  },
  {
   "cell_type": "code",
   "execution_count": null,
   "metadata": {
    "collapsed": true
   },
   "outputs": [],
   "source": []
  },
  {
   "cell_type": "code",
   "execution_count": null,
   "metadata": {
    "collapsed": true
   },
   "outputs": [],
   "source": []
  }
 ],
 "metadata": {
  "kernelspec": {
   "display_name": "Javascript (Node.js)",
   "language": "javascript",
   "name": "javascript"
  },
  "language_info": {
   "file_extension": ".js",
   "mimetype": "application/javascript",
   "name": "javascript",
   "version": "8.1.2"
  }
 },
 "nbformat": 4,
 "nbformat_minor": 2
}
