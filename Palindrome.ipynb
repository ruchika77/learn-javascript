{
 "cells": [
  {
   "cell_type": "markdown",
   "metadata": {},
   "source": [
    "### Palindrome number"
   ]
  },
  {
   "cell_type": "code",
   "execution_count": 24,
   "metadata": {
    "collapsed": true
   },
   "outputs": [],
   "source": [
    "function reverseNum(n){\n",
    "    var rev= 0;\n",
    "    var temp=n;\n",
    "    while(n>0){\n",
    "        let remainder = n%10;\n",
    "        rev = rev*10+remainder;\n",
    "        n=n/10;\n",
    "        n=~~n;\n",
    "        console.log(\"n=\",n,\"remainder=\",remainder,\"reverse=\",rev);\n",
    "        \n",
    "    }\n",
    "     if(temp==rev){\n",
    "            console.log(\"Number is palindrome\");\n",
    "        }\n",
    "        else{\n",
    "            console.log(\"Number is not palindrome\");\n",
    "        }\n",
    "}"
   ]
  },
  {
   "cell_type": "code",
   "execution_count": 26,
   "metadata": {},
   "outputs": [
    {
     "name": "stdout",
     "output_type": "stream",
     "text": [
      "n= 1232 remainder= 1 reverse= 1\n",
      "n= 123 remainder= 2 reverse= 12\n",
      "n= 12 remainder= 3 reverse= 123\n",
      "n= 1 remainder= 2 reverse= 1232\n",
      "n= 0 remainder= 1 reverse= 12321\n",
      "Number is palindrome\n"
     ]
    }
   ],
   "source": [
    "reverseNum(12321);"
   ]
  },
  {
   "cell_type": "code",
   "execution_count": null,
   "metadata": {
    "collapsed": true
   },
   "outputs": [],
   "source": []
  },
  {
   "cell_type": "code",
   "execution_count": null,
   "metadata": {
    "collapsed": true
   },
   "outputs": [],
   "source": []
  }
 ],
 "metadata": {
  "kernelspec": {
   "display_name": "Javascript (Node.js)",
   "language": "javascript",
   "name": "javascript"
  },
  "language_info": {
   "file_extension": ".js",
   "mimetype": "application/javascript",
   "name": "javascript",
   "version": "8.1.2"
  }
 },
 "nbformat": 4,
 "nbformat_minor": 2
}
