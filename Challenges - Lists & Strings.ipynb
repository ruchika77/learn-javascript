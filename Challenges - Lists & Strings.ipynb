{
 "cells": [
  {
   "cell_type": "markdown",
   "metadata": {},
   "source": [
    "### 1. Write a function that returns the largest element in a list."
   ]
  },
  {
   "cell_type": "code",
   "execution_count": 3,
   "metadata": {
    "collapsed": true
   },
   "outputs": [],
   "source": [
    "function largeNumber(a,b){\n",
    "    let largeNo=0;\n",
    "    if(a>b){\n",
    "        largeNo = a;\n",
    "    }\n",
    "    else{\n",
    "        largeNo = b;\n",
    "    }\n",
    "    return largeNo;\n",
    "}"
   ]
  },
  {
   "cell_type": "code",
   "execution_count": 4,
   "metadata": {},
   "outputs": [
    {
     "data": {
      "text/plain": [
       "800"
      ]
     },
     "execution_count": 4,
     "metadata": {},
     "output_type": "execute_result"
    }
   ],
   "source": [
    "largeNumber(199,800);"
   ]
  },
  {
   "cell_type": "code",
   "execution_count": 20,
   "metadata": {},
   "outputs": [
    {
     "data": {
      "text/plain": [
       "998"
      ]
     },
     "execution_count": 20,
     "metadata": {},
     "output_type": "execute_result"
    }
   ],
   "source": [
    "function max(array){\n",
    "    let maxValue = 0;\n",
    "   for(i=0;i<array.length;i++){\n",
    "        maxValue = largeNumber(array[i],maxValue);\n",
    "        //console.log('i=',i, array[i], maxValue);\n",
    "   }\n",
    "    return maxValue;\n",
    "}\n",
    "\n",
    "max([150,7,3,170,8,998,10,12])"
   ]
  },
  {
   "cell_type": "code",
   "execution_count": 21,
   "metadata": {},
   "outputs": [
    {
     "name": "stdout",
     "output_type": "stream",
     "text": [
      "170\n",
      "45454545\n"
     ]
    }
   ],
   "source": [
    "console.log(max([150,7,3,170,8,9,10,12]));\n",
    "\n",
    "var b = [9934,12,57,45454545,1200,45,68,13,6789]; \n",
    "console.log(max(b));"
   ]
  },
  {
   "cell_type": "code",
   "execution_count": null,
   "metadata": {
    "collapsed": true
   },
   "outputs": [],
   "source": []
  }
 ],
 "metadata": {
  "kernelspec": {
   "display_name": "Javascript (Node.js)",
   "language": "javascript",
   "name": "javascript"
  },
  "language_info": {
   "file_extension": ".js",
   "mimetype": "application/javascript",
   "name": "javascript",
   "version": "8.1.2"
  }
 },
 "nbformat": 4,
 "nbformat_minor": 2
}
