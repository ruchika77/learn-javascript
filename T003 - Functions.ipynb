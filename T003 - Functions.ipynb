{
 "cells": [
  {
   "cell_type": "markdown",
   "metadata": {
    "collapsed": true
   },
   "source": [
    "#### Define a function \"greetings\" which accepts a parameter \"name\" and print \"Hello {name}\". \n",
    "\n",
    "Invoke the function with names"
   ]
  },
  {
   "cell_type": "code",
   "execution_count": 1,
   "metadata": {
    "collapsed": true
   },
   "outputs": [],
   "source": [
    "function greetings(name){\n",
    "    console.log(`Hello ${name}`);\n",
    "}"
   ]
  },
  {
   "cell_type": "code",
   "execution_count": 4,
   "metadata": {},
   "outputs": [
    {
     "name": "stdout",
     "output_type": "stream",
     "text": [
      "Hello Shiva\n",
      "Hello Ruchika\n"
     ]
    }
   ],
   "source": [
    "greetings('Shiva');\n",
    "greetings('Ruchika')"
   ]
  },
  {
   "cell_type": "markdown",
   "metadata": {},
   "source": [
    "#### DEFINE A FUNCTION TO FIND TOTAL MACHANICAL ENERGY OF A PARTICLE\n",
    "\n",
    "Function should accepts 3 parameters m, v, h & print following 3 values\n",
    "\n",
    "Potential Energy = m\\*h\\*9.8\n",
    "\n",
    "Kenitic Energy = 0.5\\*m\\*v\\*h\n",
    "\n",
    "Total Energy = Potential Energy + Kentic Energy"
   ]
  },
  {
   "cell_type": "code",
   "execution_count": null,
   "metadata": {
    "collapsed": true
   },
   "outputs": [],
   "source": []
  },
  {
   "cell_type": "markdown",
   "metadata": {},
   "source": [
    "#### DEFINE A FUNCTION TO CONVERT SECONDS INTO HOURS, MINUTES, SECONDS\n",
    "\n",
    "Function should accept one parameter - seconds and prints in HH:MM:SS format"
   ]
  },
  {
   "cell_type": "code",
   "execution_count": null,
   "metadata": {
    "collapsed": true
   },
   "outputs": [],
   "source": []
  }
 ],
 "metadata": {
  "kernelspec": {
   "display_name": "Javascript (Node.js)",
   "language": "javascript",
   "name": "javascript"
  },
  "language_info": {
   "file_extension": ".js",
   "mimetype": "application/javascript",
   "name": "javascript",
   "version": "8.1.2"
  }
 },
 "nbformat": 4,
 "nbformat_minor": 2
}
