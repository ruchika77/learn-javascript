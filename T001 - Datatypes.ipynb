{
 "cells": [
  {
   "cell_type": "markdown",
   "metadata": {
    "collapsed": true,
    "deletable": true,
    "editable": true
   },
   "source": [
    "### Declare variables of all data types\n",
    "\n",
    "Please go through this and define all the data types\n",
    "\n",
    "https://www.w3schools.com/js/js_datatypes.asp"
   ]
  },
  {
   "cell_type": "markdown",
   "metadata": {
    "deletable": true,
    "editable": true
   },
   "source": [
    " DEFINE A NUMBER & FIND SQUARE, CUBE OF IT"
   ]
  },
  {
   "cell_type": "code",
   "execution_count": 1,
   "metadata": {
    "collapsed": false,
    "deletable": true,
    "editable": true
   },
   "outputs": [
    {
     "name": "stdout",
     "output_type": "stream",
     "text": [
      "Square of number is :  100\n",
      "Cube of number is :  1000\n"
     ]
    }
   ],
   "source": [
    "let num =10;\n",
    "let square = num*num;\n",
    "console.log(\"Square of number is : \", square);\n",
    "let cube = num*num*num;\n",
    "console.log(\"Cube of number is : \", cube);"
   ]
  },
  {
   "cell_type": "markdown",
   "metadata": {
    "deletable": true,
    "editable": true
   },
   "source": [
    "DEFINE AGE (NUMBER)\n",
    "\n",
    "FIND YOUR AGE IN DAYS"
   ]
  },
  {
   "cell_type": "code",
   "execution_count": 2,
   "metadata": {
    "collapsed": false,
    "deletable": true,
    "editable": true
   },
   "outputs": [
    {
     "name": "stdout",
     "output_type": "stream",
     "text": [
      "Area of Square :  6.25\n",
      "Perimeter of Square :  10\n"
     ]
    }
   ],
   "source": [
    "let side = 2.5;\n",
    "let area = side*side;\n",
    "console.log(\"Area of Square : \", area);\n",
    "let perimeter = 4*side;\n",
    "console.log(\"Perimeter of Square : \", perimeter);"
   ]
  },
  {
   "cell_type": "markdown",
   "metadata": {
    "deletable": true,
    "editable": true
   },
   "source": [
    "Define a radius, height"
   ]
  },
  {
   "cell_type": "code",
   "execution_count": 3,
   "metadata": {
    "collapsed": true,
    "deletable": true,
    "editable": true
   },
   "outputs": [],
   "source": [
    "let radius = 10;\n",
    "let height = 30;"
   ]
  },
  {
   "cell_type": "markdown",
   "metadata": {},
   "source": [
    "##### FIND AREA, CIRCUMFERENCE OF A CIRCLE"
   ]
  },
  {
   "cell_type": "code",
   "execution_count": 5,
   "metadata": {
    "collapsed": false,
    "deletable": true,
    "editable": true
   },
   "outputs": [
    {
     "name": "stdout",
     "output_type": "stream",
     "text": [
      "circleArea 314\n"
     ]
    }
   ],
   "source": [
    "const circleArea = radius*radius*3.14;\n",
    "console.log('circleArea', circleArea);"
   ]
  },
  {
   "cell_type": "code",
   "execution_count": 6,
   "metadata": {
    "collapsed": false,
    "deletable": true,
    "editable": true
   },
   "outputs": [
    {
     "name": "stdout",
     "output_type": "stream",
     "text": [
      "Circumference of circle 62.800000000000004\n"
     ]
    }
   ],
   "source": [
    "let circumference = 2*3.14*radius;\n",
    "console.log('Circumference of circle', circumference);"
   ]
  },
  {
   "cell_type": "markdown",
   "metadata": {
    "collapsed": true,
    "deletable": true,
    "editable": true
   },
   "source": [
    "#### FIND AREA & VOLUME OF A SPHERE"
   ]
  },
  {
   "cell_type": "code",
   "execution_count": null,
   "metadata": {
    "collapsed": true
   },
   "outputs": [],
   "source": []
  },
  {
   "cell_type": "markdown",
   "metadata": {},
   "source": [
    "##### FIND VOLUME OF A CYLINDER"
   ]
  },
  {
   "cell_type": "code",
   "execution_count": null,
   "metadata": {
    "collapsed": true
   },
   "outputs": [],
   "source": []
  },
  {
   "cell_type": "markdown",
   "metadata": {},
   "source": [
    "##### DEFINE P, N, R & FIND SIMPLE, COMPOUND INTEREST"
   ]
  },
  {
   "cell_type": "code",
   "execution_count": null,
   "metadata": {
    "collapsed": true
   },
   "outputs": [],
   "source": []
  }
 ],
 "metadata": {
  "kernelspec": {
   "display_name": "Javascript (Node.js)",
   "language": "javascript",
   "name": "javascript"
  },
  "language_info": {
   "file_extension": ".js",
   "mimetype": "application/javascript",
   "name": "javascript",
   "version": "6.11.0"
  }
 },
 "nbformat": 4,
 "nbformat_minor": 2
}
