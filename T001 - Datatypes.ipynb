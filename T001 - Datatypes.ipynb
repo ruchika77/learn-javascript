{
 "cells": [
  {
   "cell_type": "markdown",
   "metadata": {
    "collapsed": true
   },
   "source": [
    "### Declare variables of all data types\n",
    "\n",
    "Please go through this and define all the data types\n",
    "\n",
    "https://www.w3schools.com/js/js_datatypes.asp"
   ]
  },
  {
   "cell_type": "markdown",
   "metadata": {},
   "source": [
    " DEFINE A NUMBER & FIND SQUARE, CUBE OF IT"
   ]
  },
  {
   "cell_type": "code",
   "execution_count": 1,
   "metadata": {},
   "outputs": [
    {
     "name": "stdout",
     "output_type": "stream",
     "text": [
      "Square of number is :  100\n",
      "Cube of number is :  1000\n"
     ]
    }
   ],
   "source": [
    "let num =10;\n",
    "let square = num*num;\n",
    "console.log(\"Square of number is : \", square);\n",
    "let cube = num*num*num;\n",
    "console.log(\"Cube of number is : \", cube);"
   ]
  },
  {
   "cell_type": "markdown",
   "metadata": {},
   "source": [
    "DEFINE A NUMBER (SIDE OF A SQUARE) & FIND AREA, PERIMETER OF A SQUARE\n",
    "\n",
    "Please check the formulas to find area & perimeter of a square"
   ]
  },
  {
   "cell_type": "code",
   "execution_count": 2,
   "metadata": {},
   "outputs": [
    {
     "name": "stdout",
     "output_type": "stream",
     "text": [
      "Area of Square :  6.25\n",
      "Perimeter of Square :  10\n"
     ]
    }
   ],
   "source": [
    "let side = 2.5;\n",
    "let area = side*side;\n",
    "console.log(\"Area of Square : \", area);\n",
    "let perimeter = 4*side;\n",
    "console.log(\"Perimeter of Square : \", perimeter);"
   ]
  },
  {
   "cell_type": "markdown",
   "metadata": {},
   "source": [
    "Define a radius & FIND AREA, CIRCUMFERENCE OF A CIRCLE"
   ]
  },
  {
   "cell_type": "code",
   "execution_count": 3,
   "metadata": {
    "collapsed": true
   },
   "outputs": [],
   "source": [
    "let radius = 10;"
   ]
  },
  {
   "cell_type": "code",
   "execution_count": 5,
   "metadata": {},
   "outputs": [
    {
     "name": "stdout",
     "output_type": "stream",
     "text": [
      "circleArea 314\n"
     ]
    }
   ],
   "source": [
    "const circleArea = radius*radius*3.14;\n",
    "console.log('circleArea', circleArea);"
   ]
  },
  {
   "cell_type": "code",
   "execution_count": 6,
   "metadata": {},
   "outputs": [
    {
     "name": "stdout",
     "output_type": "stream",
     "text": [
      "Circumference of circle 62.800000000000004\n"
     ]
    }
   ],
   "source": [
    "let circumference = 2*3.14*radius;\n",
    "console.log('Circumference of circle', circumference);"
   ]
  },
  {
   "cell_type": "code",
   "execution_count": null,
   "metadata": {
    "collapsed": true
   },
   "outputs": [],
   "source": []
  }
 ],
 "metadata": {
  "kernelspec": {
   "display_name": "Javascript (Node.js)",
   "language": "javascript",
   "name": "javascript"
  },
  "language_info": {
   "file_extension": ".js",
   "mimetype": "application/javascript",
   "name": "javascript",
   "version": "8.1.2"
  }
 },
 "nbformat": 4,
 "nbformat_minor": 2
}
