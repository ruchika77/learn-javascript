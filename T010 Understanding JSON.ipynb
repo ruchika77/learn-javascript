{
 "cells": [
  {
   "cell_type": "markdown",
   "metadata": {},
   "source": [
    "## JSON Syntax\n",
    "\n",
    "JSON data is expressed as a sequence of parameter and value pairs, each pair using a colon character to separate parameter from value. These `\"parameter\" : \"value\"` pairs are themselves separated by commas:\n",
    "\n",
    "```javascript\n",
    "\"param1\":\"value1\",\n",
    "\"param2\":\"value2\",\n",
    "```\n",
    "\n",
    "The whole sequence is enclosed in curly braces to form a JSON object representing your data:\n",
    "\n",
    "```javascript\n",
    "var jsonObject = {\n",
    "    \"param1\":\"value1\",\n",
    "    \"param2\":\"value2\",\n",
    "    \"param3\":\"value3\"\n",
    "}\n",
    "```\n"
   ]
  },
  {
   "cell_type": "markdown",
   "metadata": {},
   "source": [
    "### Sample JSON notation of a Book data"
   ]
  },
  {
   "cell_type": "code",
   "execution_count": 1,
   "metadata": {
    "collapsed": true
   },
   "outputs": [],
   "source": [
    "var data = {\n",
    "    \"Title\": \"The Cuckoo's Calling\",\n",
    "    \"Author\": \"Robert Galbraith\",\n",
    "    \"Genre\": \"classic crime novel\",\n",
    "    \"Detail\": {\n",
    "        \"Publisher\": \"Little Brown\",\n",
    "        \"Publication_Year\": 2013,\n",
    "        \"ISBN-13\": 9781408704004,\n",
    "        \"Language\": \"English\",\n",
    "        \"Pages\": 494\n",
    "    },\n",
    "    \"Price\": [\n",
    "        {\n",
    "            \"type\": \"Hardcover\",\n",
    "            \"price\": 16.65\n",
    "        },\n",
    "        {\n",
    "            \"type\": \"Kidle Edition\",\n",
    "            \"price\": 7.03\n",
    "        }\n",
    "    ]\n",
    "}"
   ]
  },
  {
   "cell_type": "markdown",
   "metadata": {},
   "source": [
    "### Dot notation\n",
    "\n",
    "Objects written in JSON notation can have their properties accessed directly using the usual dot notation:\n",
    "\n",
    "```javascript\n",
    "console.log(data.Title)\n",
    "```\n",
    "\n",
    "You can also access by using square brakets just how do you access an element in an array. The only exception is instead  of using index you should use key.\n",
    "\n",
    "```javascript\n",
    "var array = ['shiva','ruchi','shonu','monu'];\n",
    "console.log(array[0]); // output is shiva\n",
    "\n",
    "var data = {name:'shiva'} // key is 'name' & value is 'shiva'\n",
    "\n",
    "console.log(data['name']); // provide key in square brackets. output is 'shiva' \n",
    "```"
   ]
  },
  {
   "cell_type": "code",
   "execution_count": 2,
   "metadata": {},
   "outputs": [
    {
     "name": "stdout",
     "output_type": "stream",
     "text": [
      "The Cuckoo's Calling\n"
     ]
    }
   ],
   "source": [
    "console.log(data.Title)\n"
   ]
  },
  {
   "cell_type": "code",
   "execution_count": 15,
   "metadata": {
    "collapsed": true
   },
   "outputs": [],
   "source": [
    "var str=\"Lloyds\""
   ]
  },
  {
   "cell_type": "code",
   "execution_count": 16,
   "metadata": {},
   "outputs": [
    {
     "data": {
      "text/plain": [
       "6"
      ]
     },
     "execution_count": 16,
     "metadata": {},
     "output_type": "execute_result"
    }
   ],
   "source": [
    "str.length"
   ]
  },
  {
   "cell_type": "code",
   "execution_count": 17,
   "metadata": {},
   "outputs": [
    {
     "name": "stdout",
     "output_type": "stream",
     "text": [
      "L\n",
      "l\n",
      "o\n",
      "y\n",
      "d\n",
      "s\n"
     ]
    }
   ],
   "source": [
    "for(var i=0;i<str.length;i++){\n",
    "    console.log(str[i]);\n",
    "}"
   ]
  },
  {
   "cell_type": "code",
   "execution_count": null,
   "metadata": {
    "collapsed": true
   },
   "outputs": [],
   "source": []
  },
  {
   "cell_type": "code",
   "execution_count": 48,
   "metadata": {
    "collapsed": true
   },
   "outputs": [],
   "source": [
    "function findOccurrence(str){\n",
    "    let count=1;\n",
    "    for(var i=0;i<str.length;i++){\n",
    "        var aChar=str.charAt(i);\n",
    "        var result= [aChar];\n",
    "        console.log(result);\n",
    "    }\n",
    "    if(result[i]==aChar[i]){\n",
    "            count=count+1;\n",
    "            console.log(count);\n",
    "            \n",
    "    }\n",
    "}"
   ]
  },
  {
   "cell_type": "code",
   "execution_count": 49,
   "metadata": {},
   "outputs": [
    {
     "name": "stdout",
     "output_type": "stream",
     "text": [
      "[ 'L' ]\n",
      "[ 'L' ]\n",
      "[ 'O' ]\n",
      "[ 'Y' ]\n",
      "[ 'D' ]\n",
      "[ 'S' ]\n",
      "2\n"
     ]
    }
   ],
   "source": [
    "findOccurrence(\"LLOYDS\");"
   ]
  },
  {
   "cell_type": "code",
   "execution_count": 3,
   "metadata": {},
   "outputs": [
    {
     "name": "stdout",
     "output_type": "stream",
     "text": [
      "{ S: 1, H: 1, I: 1, V: 1, A: 1 }\n"
     ]
    }
   ],
   "source": [
    "var a=\"Shiva\";\n",
    "var result = {};\n",
    "result.S=1\n",
    "result.H=1\n",
    "result.I=1\n",
    "result.V=1\n",
    "result.A=1\n",
    "\n",
    "console.log(result);"
   ]
  },
  {
   "cell_type": "code",
   "execution_count": 107,
   "metadata": {
    "collapsed": true
   },
   "outputs": [],
   "source": [
    "function countOcc(str){\n",
    "    var output={};\n",
    "    for(var i=0;i<str.length;i++){\n",
    "        var aChar = str.charAt(i);\n",
    "        if(aChar!==\" \"){    \n",
    "            if(!output.hasOwnProperty(aChar)){\n",
    "                output[aChar]=1;\n",
    "            }\n",
    "            else{\n",
    "                output[aChar]++;\n",
    "            }\n",
    "        }\n",
    "    }\n",
    "    console.log(output);\n",
    "}"
   ]
  },
  {
   "cell_type": "code",
   "execution_count": 109,
   "metadata": {},
   "outputs": [
    {
     "name": "stdout",
     "output_type": "stream",
     "text": [
      "{ L: 5,\n",
      "  O: 2,\n",
      "  Y: 1,\n",
      "  D: 2,\n",
      "  S: 1,\n",
      "  B: 2,\n",
      "  A: 1,\n",
      "  N: 3,\n",
      "  K: 3,\n",
      "  I: 1,\n",
      "  G: 1,\n",
      "  J: 1,\n",
      "  M: 1 }\n"
     ]
    }
   ],
   "source": [
    "countOcc(\"LLOYDS BANKING LLBNKOD KLJM\");"
   ]
  },
  {
   "cell_type": "code",
   "execution_count": null,
   "metadata": {
    "collapsed": true
   },
   "outputs": [],
   "source": []
  }
 ],
 "metadata": {
  "kernelspec": {
   "display_name": "Javascript (Node.js)",
   "language": "javascript",
   "name": "javascript"
  },
  "language_info": {
   "file_extension": ".js",
   "mimetype": "application/javascript",
   "name": "javascript",
   "version": "8.1.2"
  }
 },
 "nbformat": 4,
 "nbformat_minor": 2
}
