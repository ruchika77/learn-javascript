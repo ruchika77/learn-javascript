{
 "cells": [
  {
   "cell_type": "code",
   "execution_count": 2,
   "metadata": {
    "collapsed": true
   },
   "outputs": [],
   "source": [
    "function hasVowel(str){\n",
    "    if(str.search(\"a\")>=0 || (str.search(\"e\")>=0) || (str.search(\"i\")>=0) || (str.search(\"o\")>=0) || (str.search(\"u\")>=0)){\n",
    "        return true;\n",
    "    }\n",
    "    else{\n",
    "        return false;\n",
    "    }\n",
    "}"
   ]
  },
  {
   "cell_type": "code",
   "execution_count": 3,
   "metadata": {},
   "outputs": [
    {
     "data": {
      "text/plain": [
       "true"
      ]
     },
     "execution_count": 3,
     "metadata": {},
     "output_type": "execute_result"
    }
   ],
   "source": [
    "hasVowel(\"benny\")"
   ]
  },
  {
   "cell_type": "code",
   "execution_count": 4,
   "metadata": {
    "collapsed": true
   },
   "outputs": [],
   "source": [
    "function filterStringsContainVowels(arr){\n",
    "    var result = [];\n",
    "    for(var i=0;i<arr.length;i++){\n",
    "        if(hasVowel(arr[i])){\n",
    "            result.push(arr[i]);\n",
    "            console.log(\"i=\",i,\", array =\",arr[i],\"result =\", result);\n",
    "        }\n",
    "    }\n",
    "    return result;\n",
    "}"
   ]
  },
  {
   "cell_type": "code",
   "execution_count": 5,
   "metadata": {},
   "outputs": [
    {
     "data": {
      "text/plain": [
       "[]"
      ]
     },
     "execution_count": 5,
     "metadata": {},
     "output_type": "execute_result"
    }
   ],
   "source": [
    "filterStringsContainVowels([\"ghghggg\",\"HLJKJ\",\"FGFGFG\"])"
   ]
  },
  {
   "cell_type": "code",
   "execution_count": 6,
   "metadata": {
    "collapsed": true
   },
   "outputs": [],
   "source": [
    "// The basic principle of a Testable code is which should accept INOUT and retuns OUTPUT\n",
    "\n",
    "// INPUT : Function should accept parameters\n",
    "// OUTPUT : Function should return a result"
   ]
  },
  {
   "cell_type": "code",
   "execution_count": 7,
   "metadata": {},
   "outputs": [],
   "source": [
    "// filterStringsContainVowels\n",
    "// this function should accept an array as an input\n",
    "// this function should return an array which contains filtered strings\n",
    "\n",
    "var input = [\"Apple\",\"Banana\",\"KPLH\",\"MLW\"]\n",
    "var output= [\"Apple\" ,\"Banana\"]"
   ]
  },
  {
   "cell_type": "code",
   "execution_count": 10,
   "metadata": {
    "collapsed": true
   },
   "outputs": [],
   "source": [
    "function tottalOfList(arr){\n",
    "    let result=0;\n",
    "    for(var i=0;i<arr.length;i++){\n",
    "        result= result+arr[i];\n",
    "    }\n",
    "    return result;\n",
    "}"
   ]
  },
  {
   "cell_type": "code",
   "execution_count": 11,
   "metadata": {},
   "outputs": [
    {
     "ename": "ReferenceError",
     "evalue": "totalOfList is not defined",
     "output_type": "error",
     "traceback": [
      "evalmachine.<anonymous>:1",
      "totalOfList([1,2,3])",
      "^",
      "",
      "ReferenceError: totalOfList is not defined",
      "    at evalmachine.<anonymous>:1:1",
      "    at ContextifyScript.Script.runInThisContext (vm.js:44:33)",
      "    at Object.runInThisContext (vm.js:116:38)",
      "    at run ([eval]:617:19)",
      "    at onRunRequest ([eval]:388:22)",
      "    at onMessage ([eval]:356:17)",
      "    at emitTwo (events.js:125:13)",
      "    at process.emit (events.js:213:7)",
      "    at handleMessage (internal/child_process.js:753:14)",
      "    at Pipe.channel.onread (internal/child_process.js:472:11)"
     ]
    }
   ],
   "source": [
    "totalOfList([1,2,3])"
   ]
  },
  {
   "cell_type": "code",
   "execution_count": null,
   "metadata": {
    "collapsed": true
   },
   "outputs": [],
   "source": []
  }
 ],
 "metadata": {
  "kernelspec": {
   "display_name": "Javascript (Node.js)",
   "language": "javascript",
   "name": "javascript"
  },
  "language_info": {
   "file_extension": ".js",
   "mimetype": "application/javascript",
   "name": "javascript",
   "version": "8.1.2"
  }
 },
 "nbformat": 4,
 "nbformat_minor": 2
}
