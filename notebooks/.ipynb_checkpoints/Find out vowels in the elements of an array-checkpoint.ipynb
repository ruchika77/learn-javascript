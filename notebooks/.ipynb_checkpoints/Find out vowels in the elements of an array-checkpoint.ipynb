{
 "cells": [
  {
   "cell_type": "code",
   "execution_count": 14,
   "metadata": {
    "collapsed": true
   },
   "outputs": [],
   "source": [
    "function hasVowel(str){\n",
    "    if(str.search(\"a\")>=0 || (str.search(\"e\")>=0) || (str.search(\"i\")>=0) || (str.search(\"o\")>=0) || (str.search(\"u\")>=0)){\n",
    "        return true;\n",
    "    }\n",
    "    else{\n",
    "        return false;\n",
    "    }\n",
    "}"
   ]
  },
  {
   "cell_type": "code",
   "execution_count": 15,
   "metadata": {},
   "outputs": [
    {
     "data": {
      "text/plain": [
       "true"
      ]
     },
     "execution_count": 15,
     "metadata": {},
     "output_type": "execute_result"
    }
   ],
   "source": [
    "hasVowel(\"benny\")"
   ]
  },
  {
   "cell_type": "code",
   "execution_count": 53,
   "metadata": {},
   "outputs": [],
   "source": [
    "function filterStringsContainVowels(arr){\n",
    "    var result = [];\n",
    "    for(var i=0;i<arr.length;i++){\n",
    "        if(hasVowel(arr[i])){\n",
    "            result.push(arr[i]);\n",
    "            console.log(\"i=\",i,\", array =\",arr[i],\"result =\", result);\n",
    "        }\n",
    "    }\n",
    "    return result;\n",
    "}"
   ]
  },
  {
   "cell_type": "code",
   "execution_count": 55,
   "metadata": {},
   "outputs": [
    {
     "name": "stdout",
     "output_type": "stream",
     "text": [
      "i= 1 , array = banana result = [ 'banana' ]\n",
      "i= 2 , array = apple result = [ 'banana', 'apple' ]\n"
     ]
    },
    {
     "data": {
      "text/plain": [
       "[ 'banana', 'apple' ]"
      ]
     },
     "execution_count": 55,
     "metadata": {},
     "output_type": "execute_result"
    }
   ],
   "source": [
    "filterStringsContainVowels([\"ghghggg\",\"banana\",\"apple\",\"HLJKJ\",\"FGFGFG\"])"
   ]
  },
  {
   "cell_type": "code",
   "execution_count": 39,
   "metadata": {
    "collapsed": true
   },
   "outputs": [],
   "source": [
    "// The basic principle of a Testable code is which should accept INOUT and retuns OUTPUT\n",
    "\n",
    "// INPUT : Function should accept parameters\n",
    "// OUTPUT : Function should return a result"
   ]
  },
  {
   "cell_type": "code",
   "execution_count": 34,
   "metadata": {},
   "outputs": [
    {
     "name": "stdout",
     "output_type": "stream",
     "text": [
      "apple\n",
      "qemnv\n",
      "banana\n"
     ]
    }
   ],
   "source": [
    "// filterStringsContainVowels\n",
    "// this function should accept an array as an input\n",
    "// this function should return an array which contains filtered strings\n",
    "\n",
    "var input = [\"Apple\",\"Banana\",\"KPLH\",\"MLW\"]\n",
    "var output= [\"Apple\" ,\"Banana\"]"
   ]
  },
  {
   "cell_type": "code",
   "execution_count": null,
   "metadata": {
    "collapsed": true
   },
   "outputs": [],
   "source": []
  }
 ],
 "metadata": {
  "kernelspec": {
   "display_name": "Javascript (Node.js)",
   "language": "javascript",
   "name": "javascript"
  },
  "language_info": {
   "file_extension": ".js",
   "mimetype": "application/javascript",
   "name": "javascript",
   "version": "8.1.2"
  }
 },
 "nbformat": 4,
 "nbformat_minor": 2
}
