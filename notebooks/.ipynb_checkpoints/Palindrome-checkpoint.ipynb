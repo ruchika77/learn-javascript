{
 "cells": [
  {
   "cell_type": "markdown",
   "metadata": {},
   "source": [
    "### Palindrome number"
   ]
  },
  {
   "cell_type": "code",
   "execution_count": 1,
   "metadata": {
    "collapsed": true
   },
   "outputs": [],
   "source": [
    "function isPalindrome(n){\n",
    "    var rev= 0;\n",
    "    var temp=n;\n",
    "    while(n>0){\n",
    "        let remainder = n%10;\n",
    "        rev = rev*10+remainder;\n",
    "        n=n/10;\n",
    "        n=~~n;\n",
    "//         console.log(\"n=\",n,\"remainder=\",remainder,\"reverse=\",rev);\n",
    "        \n",
    "    }\n",
    "     if(temp==rev){\n",
    "            console.log(\"Number is palindrome\");\n",
    "        }\n",
    "        else{\n",
    "            console.log(\"Number is not palindrome\");\n",
    "        }\n",
    "}"
   ]
  },
  {
   "cell_type": "code",
   "execution_count": 3,
   "metadata": {},
   "outputs": [
    {
     "name": "stdout",
     "output_type": "stream",
     "text": [
      "n= 4070 remainder= 4 reverse= 4\n",
      "n= 407 remainder= 0 reverse= 40\n",
      "n= 40 remainder= 7 reverse= 407\n",
      "n= 4 remainder= 0 reverse= 4070\n",
      "n= 0 remainder= 4 reverse= 40704\n",
      "Number is palindrome\n"
     ]
    }
   ],
   "source": [
    "isPalindrome(40704);"
   ]
  },
  {
   "cell_type": "code",
   "execution_count": null,
   "metadata": {
    "collapsed": true
   },
   "outputs": [],
   "source": []
  },
  {
   "cell_type": "code",
   "execution_count": null,
   "metadata": {
    "collapsed": true
   },
   "outputs": [],
   "source": []
  }
 ],
 "metadata": {
  "kernelspec": {
   "display_name": "Javascript (Node.js)",
   "language": "javascript",
   "name": "javascript"
  },
  "language_info": {
   "file_extension": ".js",
   "mimetype": "application/javascript",
   "name": "javascript",
   "version": "8.1.2"
  }
 },
 "nbformat": 4,
 "nbformat_minor": 2
}
