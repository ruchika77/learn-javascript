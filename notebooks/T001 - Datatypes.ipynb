{
 "cells": [
  {
   "cell_type": "markdown",
   "metadata": {
    "collapsed": true
   },
   "source": [
    "### Declare variables of all data types\n",
    "\n",
    "Please go through this and define all the data types\n",
    "\n",
    "https://www.w3schools.com/js/js_datatypes.asp"
   ]
  },
  {
   "cell_type": "markdown",
   "metadata": {},
   "source": [
    " DEFINE A NUMBER & FIND SQUARE, CUBE OF IT"
   ]
  },
  {
   "cell_type": "code",
   "execution_count": 1,
   "metadata": {},
   "outputs": [
    {
     "name": "stdout",
     "output_type": "stream",
     "text": [
      "Square of number is :  100\n",
      "Cube of number is :  1000\n"
     ]
    }
   ],
   "source": [
    "let num =10;\n",
    "let square = num*num;\n",
    "console.log(\"Square of number is : \", square);\n",
    "let cube = num*num*num;\n",
    "console.log(\"Cube of number is : \", cube);"
   ]
  },
  {
   "cell_type": "markdown",
   "metadata": {},
   "source": [
    "#### Define a side of square and find the area and perimeter of square"
   ]
  },
  {
   "cell_type": "code",
   "execution_count": 2,
   "metadata": {},
   "outputs": [
    {
     "name": "stdout",
     "output_type": "stream",
     "text": [
      "Area of Square :  6.25\n",
      "Perimeter of Square :  10\n"
     ]
    }
   ],
   "source": [
    "let side = 2.5;\n",
    "let area = side*side;\n",
    "console.log(\"Area of Square : \", area);\n",
    "let perimeter = 4*side;\n",
    "console.log(\"Perimeter of Square : \", perimeter);"
   ]
  },
  {
   "cell_type": "markdown",
   "metadata": {},
   "source": [
    "#### Define a radius, height"
   ]
  },
  {
   "cell_type": "code",
   "execution_count": 3,
   "metadata": {
    "collapsed": true
   },
   "outputs": [],
   "source": [
    "let radius = 10;\n",
    "let height = 30;"
   ]
  },
  {
   "cell_type": "markdown",
   "metadata": {},
   "source": [
    "##### FIND AREA, CIRCUMFERENCE OF A CIRCLE"
   ]
  },
  {
   "cell_type": "code",
   "execution_count": 5,
   "metadata": {},
   "outputs": [
    {
     "name": "stdout",
     "output_type": "stream",
     "text": [
      "circleArea 314\n"
     ]
    }
   ],
   "source": [
    "const circleArea = radius*radius*3.14;\n",
    "console.log('circleArea', circleArea);"
   ]
  },
  {
   "cell_type": "code",
   "execution_count": 6,
   "metadata": {},
   "outputs": [
    {
     "name": "stdout",
     "output_type": "stream",
     "text": [
      "Circumference of circle 62.800000000000004\n"
     ]
    }
   ],
   "source": [
    "let circumference = 2*3.14*radius;\n",
    "console.log('Circumference of circle', circumference);"
   ]
  },
  {
   "cell_type": "markdown",
   "metadata": {
    "collapsed": true
   },
   "source": [
    "#### FIND AREA & VOLUME OF A SPHERE"
   ]
  },
  {
   "cell_type": "code",
   "execution_count": 4,
   "metadata": {},
   "outputs": [],
   "source": [
    "let radiusSp =7;\n",
    "let Spherearea = 4*3.14*radiusSp*radiusSp;"
   ]
  },
  {
   "cell_type": "code",
   "execution_count": 5,
   "metadata": {},
   "outputs": [
    {
     "name": "stdout",
     "output_type": "stream",
     "text": [
      "Area of Sphere :  615.44\n"
     ]
    }
   ],
   "source": [
    "console.log('Area of Sphere : ',Spherearea);"
   ]
  },
  {
   "cell_type": "code",
   "execution_count": 6,
   "metadata": {},
   "outputs": [
    {
     "name": "stdout",
     "output_type": "stream",
     "text": [
      "Volume of Sphere :  1435.66766\n"
     ]
    }
   ],
   "source": [
    "let volumecube = 1.333*3.14*radiusSphere*radiusSphere*radiusSphere;\n",
    "console.log('Volume of Sphere : ',volumecube);"
   ]
  },
  {
   "cell_type": "markdown",
   "metadata": {},
   "source": [
    "##### FIND VOLUME OF A CYLINDER"
   ]
  },
  {
   "cell_type": "code",
   "execution_count": 11,
   "metadata": {
    "collapsed": true
   },
   "outputs": [],
   "source": [
    "let rad = 2;\n",
    "let height = 7;\n",
    "let volCyclin = 3.14*rad*rad*height;"
   ]
  },
  {
   "cell_type": "code",
   "execution_count": 12,
   "metadata": {},
   "outputs": [
    {
     "name": "stdout",
     "output_type": "stream",
     "text": [
      "Volume of Cylinder :  87.92\n"
     ]
    }
   ],
   "source": [
    "console.log('Volume of Cylinder : ',volCyclin);"
   ]
  },
  {
   "cell_type": "markdown",
   "metadata": {},
   "source": [
    "##### DEFINE P, N, R & FIND SIMPLE, COMPOUND INTEREST"
   ]
  },
  {
   "cell_type": "code",
   "execution_count": 13,
   "metadata": {},
   "outputs": [
    {
     "name": "stdout",
     "output_type": "stream",
     "text": [
      "Simple interest is :  2985.2\n"
     ]
    }
   ],
   "source": [
    "let p = 10;\n",
    "let t = 6.8;\n",
    "let r = 43.9;\n",
    "let simple = p*r*t;\n",
    "console.log('Simple interest is : ', simple);"
   ]
  },
  {
   "cell_type": "code",
   "execution_count": 15,
   "metadata": {},
   "outputs": [
    {
     "name": "stdout",
     "output_type": "stream",
     "text": [
      "Compound interest is :  108.79916790645724\n"
     ]
    }
   ],
   "source": [
    "let amt = p*(Math.pow((1+r/100),t));\n",
    "let compnd = amt-p;\n",
    "console.log('Compound interest is : ', compnd);"
   ]
  }
 ],
 "metadata": {
  "kernelspec": {
   "display_name": "Javascript (Node.js)",
   "language": "javascript",
   "name": "javascript"
  },
  "language_info": {
   "file_extension": ".js",
   "mimetype": "application/javascript",
   "name": "javascript",
   "version": "8.1.2"
  }
 },
 "nbformat": 4,
 "nbformat_minor": 2
}
