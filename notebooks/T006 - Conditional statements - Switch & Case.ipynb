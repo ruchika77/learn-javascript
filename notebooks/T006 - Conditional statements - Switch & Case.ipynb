{
 "cells": [
  {
   "cell_type": "markdown",
   "metadata": {
    "collapsed": true,
    "deletable": true,
    "editable": true
   },
   "source": [
    "# Switch Case statements"
   ]
  },
  {
   "cell_type": "markdown",
   "metadata": {
    "deletable": true,
    "editable": true
   },
   "source": [
    "### More info on Date object\n",
    "\n",
    "The getDay() method returns the weekday as a number between 0 and 6.\n",
    "\n",
    "(Sunday=0, Monday=1, Tuesday=2 ..)"
   ]
  },
  {
   "cell_type": "markdown",
   "metadata": {
    "deletable": true,
    "editable": true
   },
   "source": [
    "### 1. Write a programe to print day(Monday to Sunday) of a given date"
   ]
  },
  {
   "cell_type": "code",
   "execution_count": 41,
   "metadata": {
    "collapsed": true,
    "deletable": true,
    "editable": true
   },
   "outputs": [],
   "source": [
    "function getDayName(aDate){\n",
    "    let dayName;\n",
    "    let dayIndex = aDate.getDay();\n",
    "    switch(dayIndex){\n",
    "        case 0:\n",
    "            dayName = \"Sunday\";\n",
    "            break;\n",
    "        case 1:\n",
    "            dayName = \"Monday\";\n",
    "            break;\n",
    "        case 2:\n",
    "            dayName = \"Tuesday\";\n",
    "            break;\n",
    "        case 3:\n",
    "            dayName = \"Wednesday\";\n",
    "            break;\n",
    "        case 4:\n",
    "            dayName = \"Thursday\";\n",
    "            break;\n",
    "        case 5:\n",
    "            dayName = \"Friday\";\n",
    "            break;\n",
    "        case 6:\n",
    "            dayName = \"Saturday\";\n",
    "            break;\n",
    "}\n",
    "        return dayName;\n",
    "}"
   ]
  },
  {
   "cell_type": "code",
   "execution_count": 42,
   "metadata": {
    "collapsed": false,
    "deletable": true,
    "editable": true
   },
   "outputs": [
    {
     "name": "stdout",
     "output_type": "stream",
     "text": [
      "Day of 2017-9-17 is Sunday\n"
     ]
    }
   ],
   "source": [
    "var date = '2017-9-17';\n",
    "var day = getDayName(new Date(date));\n",
    "\n",
    "console.log(`Day of ${date} is ${day}`);"
   ]
  },
  {
   "cell_type": "markdown",
   "metadata": {
    "deletable": true,
    "editable": true
   },
   "source": [
    "### 2. Write a programe to print  following values of a given grade\n",
    "\n",
    "| Grade  | Value   |\n",
    "|------- |---------|\n",
    "| A | Very Good    |\n",
    "| B | Good         |\n",
    "| C | Average      |\n",
    "| D | Bad          |\n",
    "| E | Very Bad     |"
   ]
  },
  {
   "cell_type": "code",
   "execution_count": 43,
   "metadata": {
    "collapsed": true,
    "deletable": true,
    "editable": true
   },
   "outputs": [],
   "source": [
    "function getGradeValue(aGrade){\n",
    "    let Grade;\n",
    "    switch(aGrade){\n",
    "        case 'A':\n",
    "            Grade = \"Very Good\";\n",
    "            break;\n",
    "        case \"B\":\n",
    "            Grade = \"Good\";\n",
    "            break;\n",
    "        case \"C\":\n",
    "            Grade = \"Average\";\n",
    "            break;\n",
    "        case \"D\":\n",
    "            Grade = \"Bad\";\n",
    "            break;\n",
    "        case \"E\":\n",
    "            Grade = \"Very Bad\";\n",
    "            break;\n",
    "        default :\n",
    "            Grade = \"Enter valid grade\";\n",
    "                 }\n",
    "    return Grade;\n",
    "}"
   ]
  },
  {
   "cell_type": "code",
   "execution_count": 46,
   "metadata": {
    "collapsed": false,
    "deletable": true,
    "editable": true
   },
   "outputs": [
    {
     "data": {
      "text/plain": [
       "'Very Good'"
      ]
     },
     "execution_count": 46,
     "metadata": {},
     "output_type": "execute_result"
    }
   ],
   "source": [
    "getGradeValue('A');"
   ]
  },
  {
   "cell_type": "code",
   "execution_count": null,
   "metadata": {
    "collapsed": true,
    "deletable": true,
    "editable": true
   },
   "outputs": [],
   "source": []
  }
 ],
 "metadata": {
  "kernelspec": {
   "display_name": "Javascript (Node.js)",
   "language": "javascript",
   "name": "javascript"
  },
  "language_info": {
   "file_extension": ".js",
   "mimetype": "application/javascript",
   "name": "javascript",
   "version": "6.11.0"
  }
 },
 "nbformat": 4,
 "nbformat_minor": 2
}
