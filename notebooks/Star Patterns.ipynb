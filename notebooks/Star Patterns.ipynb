{
 "cells": [
  {
   "cell_type": "markdown",
   "metadata": {},
   "source": [
    "### 1. Print following pattern\n",
    "\n",
    "1\n",
    "\n",
    "1 2\n",
    "\n",
    "1 2 3\n",
    "\n",
    "1 2 3 4\n",
    "\n",
    "1 2 3 4 5\n",
    "up to given n lines"
   ]
  },
  {
   "cell_type": "code",
   "execution_count": 6,
   "metadata": {
    "collapsed": true
   },
   "outputs": [],
   "source": [
    "function linearPattern(n){\n",
    "    let i=1;\n",
    "    for(i=1;i<=n;i++){\n",
    "        util.print(i,\" \");\n",
    "    }\n",
    "}"
   ]
  },
  {
   "cell_type": "code",
   "execution_count": 7,
   "metadata": {},
   "outputs": [
    {
     "name": "stdout",
     "output_type": "stream",
     "text": [
      "1 2 3 4 5 6 7 8 9 "
     ]
    }
   ],
   "source": [
    "linearPattern(9);"
   ]
  },
  {
   "cell_type": "code",
   "execution_count": 8,
   "metadata": {},
   "outputs": [],
   "source": [
    "function triangle(x){\n",
    "    for(j=1;j<=x;j++){\n",
    "        linearPattern(j);\n",
    "        console.log(\" \");\n",
    "\n",
    "    }\n",
    "}"
   ]
  },
  {
   "cell_type": "code",
   "execution_count": 9,
   "metadata": {
    "scrolled": true
   },
   "outputs": [
    {
     "name": "stdout",
     "output_type": "stream",
     "text": [
      "1  \n",
      "1 2  \n",
      "1 2 3  \n",
      "1 2 3 4  \n",
      "1 2 3 4 5  \n",
      "1 2 3 4 5 6  \n",
      "1 2 3 4 5 6 7  \n",
      "1 2 3 4 5 6 7 8  \n",
      "1 2 3 4 5 6 7 8 9  \n",
      "1 2 3 4 5 6 7 8 9 10  \n"
     ]
    }
   ],
   "source": [
    "triangle(10);"
   ]
  },
  {
   "cell_type": "code",
   "execution_count": 10,
   "metadata": {
    "collapsed": true
   },
   "outputs": [],
   "source": [
    "function reverseTriangle(x){\n",
    "    pattern = 0;\n",
    "    for(j=x;j>=0;j--){\n",
    "    pattern = linearPattern(j);\n",
    "    console.log(\"\");\n",
    "    }\n",
    "    return pattern;\n",
    "        \n",
    "}"
   ]
  },
  {
   "cell_type": "code",
   "execution_count": 11,
   "metadata": {
    "scrolled": true
   },
   "outputs": [
    {
     "name": "stdout",
     "output_type": "stream",
     "text": [
      "1 2 3 4 5 6 7 8 9 10 11 12 13 14 15 \n",
      "1 2 3 4 5 6 7 8 9 10 11 12 13 14 \n",
      "1 2 3 4 5 6 7 8 9 10 11 12 13 \n",
      "1 2 3 4 5 6 7 8 9 10 11 12 \n",
      "1 2 3 4 5 6 7 8 9 10 11 \n",
      "1 2 3 4 5 6 7 8 9 10 \n",
      "1 2 3 4 5 6 7 8 9 \n",
      "1 2 3 4 5 6 7 8 \n",
      "1 2 3 4 5 6 7 \n",
      "1 2 3 4 5 6 \n",
      "1 2 3 4 5 \n",
      "1 2 3 4 \n",
      "1 2 3 \n",
      "1 2 \n",
      "1 \n",
      "\n"
     ]
    }
   ],
   "source": [
    "reverseTriangle(15);"
   ]
  },
  {
   "cell_type": "code",
   "execution_count": 12,
   "metadata": {},
   "outputs": [
    {
     "name": "stdout",
     "output_type": "stream",
     "text": [
      "                              Ruchika Mehta"
     ]
    }
   ],
   "source": [
    "function spaces(n){\n",
    "    let i;\n",
    "    for(i=1;i<=n;i++){\n",
    "        util.print(\" \");\n",
    "    }  \n",
    "}\n",
    "spaces(30);\n",
    "util.print(\"Ruchika Mehta\");"
   ]
  },
  {
   "cell_type": "code",
   "execution_count": 13,
   "metadata": {},
   "outputs": [
    {
     "name": "stdout",
     "output_type": "stream",
     "text": [
      "                    *"
     ]
    }
   ],
   "source": [
    "spaces(20);\n",
    "util.print(\"*\");"
   ]
  },
  {
   "cell_type": "code",
   "execution_count": 14,
   "metadata": {
    "collapsed": true
   },
   "outputs": [],
   "source": [
    "function numberSpace(x){\n",
    "    let j;\n",
    "    for(j=1;j<=x;j++){\n",
    "        util.print(j,\" \");\n",
    "    }\n",
    "    \n",
    "}  "
   ]
  },
  {
   "cell_type": "code",
   "execution_count": 15,
   "metadata": {},
   "outputs": [
    {
     "name": "stdout",
     "output_type": "stream",
     "text": [
      "1 2 3 4 5 6 7 8 9 "
     ]
    }
   ],
   "source": [
    "numberSpace(9);"
   ]
  },
  {
   "cell_type": "code",
   "execution_count": 16,
   "metadata": {
    "collapsed": true
   },
   "outputs": [],
   "source": [
    "function final(x){\n",
    "    var i;\n",
    "    for(i=1;i<=x;i++){\n",
    "        spaces(x);\n",
    "        //spaces(x-1);\n",
    "        numberSpace(i);\n",
    "//         util.print(\" \",i);\n",
    "        console.log(\" \");\n",
    "        x=x-1;\n",
    "//         numberSpace(i);\n",
    "     //   spaces(x-5);\n",
    "    }\n",
    "}"
   ]
  },
  {
   "cell_type": "code",
   "execution_count": 17,
   "metadata": {},
   "outputs": [
    {
     "name": "stdout",
     "output_type": "stream",
     "text": [
      "                                  1  \n",
      "                                 1 2  \n",
      "                                1 2 3  \n",
      "                               1 2 3 4  \n",
      "                              1 2 3 4 5  \n",
      "                             1 2 3 4 5 6  \n",
      "                            1 2 3 4 5 6 7  \n",
      "                           1 2 3 4 5 6 7 8  \n",
      "                          1 2 3 4 5 6 7 8 9  \n",
      "                         1 2 3 4 5 6 7 8 9 10  \n",
      "                        1 2 3 4 5 6 7 8 9 10 11  \n",
      "                       1 2 3 4 5 6 7 8 9 10 11 12  \n",
      "                      1 2 3 4 5 6 7 8 9 10 11 12 13  \n",
      "                     1 2 3 4 5 6 7 8 9 10 11 12 13 14  \n",
      "                    1 2 3 4 5 6 7 8 9 10 11 12 13 14 15  \n",
      "                   1 2 3 4 5 6 7 8 9 10 11 12 13 14 15 16  \n",
      "                  1 2 3 4 5 6 7 8 9 10 11 12 13 14 15 16 17  \n"
     ]
    }
   ],
   "source": [
    "final(34);"
   ]
  },
  {
   "cell_type": "code",
   "execution_count": 18,
   "metadata": {
    "collapsed": true
   },
   "outputs": [],
   "source": [
    "function stars(n){\n",
    "    var i;\n",
    "    for(i=1;i<=n;i++){\n",
    "        util.print(\"*\",\" \");\n",
    "    }\n",
    "    \n",
    "}"
   ]
  },
  {
   "cell_type": "code",
   "execution_count": 19,
   "metadata": {},
   "outputs": [
    {
     "name": "stdout",
     "output_type": "stream",
     "text": [
      "* * * * * * "
     ]
    }
   ],
   "source": [
    "stars(6);"
   ]
  },
  {
   "cell_type": "code",
   "execution_count": 20,
   "metadata": {
    "collapsed": true
   },
   "outputs": [],
   "source": [
    "function case1(n){\n",
    "    for(var i=n;i>=0;i--){\n",
    "        stars(i);\n",
    "        console.log(\" \");\n",
    "    }\n",
    "}"
   ]
  },
  {
   "cell_type": "code",
   "execution_count": 21,
   "metadata": {},
   "outputs": [
    {
     "name": "stdout",
     "output_type": "stream",
     "text": [
      "* * * * * * * * *  \n",
      "* * * * * * * *  \n",
      "* * * * * * *  \n",
      "* * * * * *  \n",
      "* * * * *  \n",
      "* * * *  \n",
      "* * *  \n",
      "* *  \n",
      "*  \n",
      " \n"
     ]
    }
   ],
   "source": [
    "case1(9);"
   ]
  },
  {
   "cell_type": "code",
   "execution_count": 22,
   "metadata": {
    "collapsed": true
   },
   "outputs": [],
   "source": [
    "function number(n){\n",
    "    var i;\n",
    "    for(i=1;i<=n;i++){\n",
    "        linearPattern(i);\n",
    "//         util.print(i);\n",
    "        console.log(\" \");\n",
    "   }\n",
    "}"
   ]
  },
  {
   "cell_type": "code",
   "execution_count": 23,
   "metadata": {},
   "outputs": [
    {
     "name": "stdout",
     "output_type": "stream",
     "text": [
      "1  \n",
      "1 2  \n",
      "1 2 3  \n",
      "1 2 3 4  \n",
      "1 2 3 4 5  \n",
      "1 2 3 4 5 6  \n",
      "1 2 3 4 5 6 7  \n",
      "1 2 3 4 5 6 7 8  \n",
      "1 2 3 4 5 6 7 8 9  \n"
     ]
    }
   ],
   "source": [
    "number(9);"
   ]
  },
  {
   "cell_type": "code",
   "execution_count": 36,
   "metadata": {
    "collapsed": true
   },
   "outputs": [],
   "source": [
    "function case2(n){\n",
    "    for(var i=1;i<=n;i++){\n",
    "        let a = case1(i);\n",
    "        let b = number(n);\n",
    "        util.print(a,b);\n",
    "    }\n",
    "}"
   ]
  },
  {
   "cell_type": "code",
   "execution_count": 37,
   "metadata": {},
   "outputs": [
    {
     "name": "stdout",
     "output_type": "stream",
     "text": [
      "*  \n",
      " \n",
      "1  \n",
      "1 2  \n",
      "1 2 3  \n",
      "1 2 3 4  \n",
      "1 2 3 4 5  \n",
      "undefinedundefined* *  \n",
      "*  \n",
      " \n",
      "1  \n",
      "1 2  \n",
      "1 2 3  \n",
      "1 2 3 4  \n",
      "1 2 3 4 5  \n",
      "undefinedundefined* * *  \n",
      "* *  \n",
      "*  \n",
      " \n",
      "1  \n",
      "1 2  \n",
      "1 2 3  \n",
      "1 2 3 4  \n",
      "1 2 3 4 5  \n",
      "undefinedundefined* * * *  \n",
      "* * *  \n",
      "* *  \n",
      "*  \n",
      " \n",
      "1  \n",
      "1 2  \n",
      "1 2 3  \n",
      "1 2 3 4  \n",
      "1 2 3 4 5  \n",
      "undefinedundefined* * * * *  \n",
      "* * * *  \n",
      "* * *  \n",
      "* *  \n",
      "*  \n",
      " \n",
      "1  \n",
      "1 2  \n",
      "1 2 3  \n",
      "1 2 3 4  \n",
      "1 2 3 4 5  \n",
      "undefinedundefined"
     ]
    }
   ],
   "source": [
    "case2(5);"
   ]
  },
  {
   "cell_type": "code",
   "execution_count": null,
   "metadata": {
    "collapsed": true
   },
   "outputs": [],
   "source": []
  },
  {
   "cell_type": "code",
   "execution_count": 25,
   "metadata": {
    "scrolled": true
   },
   "outputs": [
    {
     "name": "stdout",
     "output_type": "stream",
     "text": [
      "*  \n",
      " \n",
      "1  \n",
      "1 2  \n",
      "* *  \n",
      "*  \n",
      " \n",
      "1  \n",
      "1 2  \n"
     ]
    }
   ],
   "source": [
    "case2(2);"
   ]
  },
  {
   "cell_type": "code",
   "execution_count": null,
   "metadata": {
    "collapsed": true
   },
   "outputs": [],
   "source": []
  }
 ],
 "metadata": {
  "kernelspec": {
   "display_name": "Javascript (Node.js)",
   "language": "javascript",
   "name": "javascript"
  },
  "language_info": {
   "file_extension": ".js",
   "mimetype": "application/javascript",
   "name": "javascript",
   "version": "8.1.2"
  }
 },
 "nbformat": 4,
 "nbformat_minor": 2
}
