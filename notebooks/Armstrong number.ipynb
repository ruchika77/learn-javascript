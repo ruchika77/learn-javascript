{
 "cells": [
  {
   "cell_type": "code",
   "execution_count": 52,
   "metadata": {
    "collapsed": true
   },
   "outputs": [],
   "source": [
    "function armstrong(n){\n",
    "    var temp=n;\n",
    "    var num=n.toString();\n",
    "    var length=num.length;\n",
    "    var result=0;\n",
    "    for(i=0;i<length;i++){\n",
    "        var remainder = n%10;\n",
    "        result= result+Math.pow(remainder,length);\n",
    "        n=n/10;\n",
    "        n=~~n;\n",
    "    }\n",
    "    console.log(\"Result\",result);\n",
    "    console.log(\"Temporary num\", temp);\n",
    "    if(result==temp){\n",
    "        console.log(\"Number is armstrong\");\n",
    "    }\n",
    "    else{\n",
    "        console.log(\"Number is not armstrong\");\n",
    "    }\n",
    "}"
   ]
  },
  {
   "cell_type": "code",
   "execution_count": 54,
   "metadata": {},
   "outputs": [
    {
     "name": "stdout",
     "output_type": "stream",
     "text": [
      "Result 371\n",
      "Temporary num 371\n",
      "Number is armstrong\n"
     ]
    }
   ],
   "source": [
    "armstrong(371);"
   ]
  },
  {
   "cell_type": "code",
   "execution_count": null,
   "metadata": {
    "collapsed": true
   },
   "outputs": [],
   "source": []
  }
 ],
 "metadata": {
  "kernelspec": {
   "display_name": "Javascript (Node.js)",
   "language": "javascript",
   "name": "javascript"
  },
  "language_info": {
   "file_extension": ".js",
   "mimetype": "application/javascript",
   "name": "javascript",
   "version": "8.1.2"
  }
 },
 "nbformat": 4,
 "nbformat_minor": 2
}
