{
 "cells": [
  {
   "cell_type": "markdown",
   "metadata": {
    "collapsed": true
   },
   "source": [
    "#### Define a function \"greetings\" which accepts a parameter \"name\" and print \"Hello {name}\". \n",
    "\n",
    "Invoke the function with names"
   ]
  },
  {
   "cell_type": "code",
   "execution_count": 4,
   "metadata": {
    "collapsed": true
   },
   "outputs": [],
   "source": [
    "function greetings(name,age){\n",
    "    console.log(`Hello ${name}, your age is ${age}`);\n",
    "}"
   ]
  },
  {
   "cell_type": "code",
   "execution_count": 5,
   "metadata": {},
   "outputs": [
    {
     "name": "stdout",
     "output_type": "stream",
     "text": [
      "Hello Shiva, your age is 29\n",
      "Hello Ruchika, your age is 26\n"
     ]
    }
   ],
   "source": [
    "greetings('Shiva', 29);\n",
    "greetings('Ruchika', 26);"
   ]
  },
  {
   "cell_type": "markdown",
   "metadata": {},
   "source": [
    "###### DEFINE A FUNCTION TO FIND TOTAL MACHANICAL ENERGY OF A PARTICLE\n",
    "\n",
    "Function should accepts 3 parameters m, v, h & print following 3 values\n",
    "\n",
    "Potential Energy = m\\*h\\*9.8\n",
    "\n",
    "Kenitic Energy = 0.5\\*m\\*v\\*h\n",
    "\n",
    "Total Energy = Potential Energy + Kentic Energy"
   ]
  },
  {
   "cell_type": "code",
   "execution_count": 6,
   "metadata": {
    "collapsed": true
   },
   "outputs": [],
   "source": [
    "function partical(m,v,h){\n",
    "    let pe = m*h*9.8;\n",
    "    let ke = 0.5*m*v*h;\n",
    "    let te = pe + ke;\n",
    "    console.log('Potential Energy = ', pe);\n",
    "    console.log('Kentic Energy = ', ke);\n",
    "    console.log('Total Energy = ', te);\n",
    "}"
   ]
  },
  {
   "cell_type": "code",
   "execution_count": 7,
   "metadata": {},
   "outputs": [
    {
     "name": "stdout",
     "output_type": "stream",
     "text": [
      "Potential Energy =  29.400000000000002\n",
      "Kentic Energy =  3\n",
      "Total Energy =  32.400000000000006\n"
     ]
    }
   ],
   "source": [
    "partical(1,2,3);"
   ]
  },
  {
   "cell_type": "markdown",
   "metadata": {},
   "source": [
    "#### DEFINE A FUNCTION TO CONVERT SECONDS INTO HOURS, MINUTES, SECONDS\n",
    "\n",
    "Function should accept one parameter - seconds and prints in HH:MM:SS format"
   ]
  },
  {
   "cell_type": "code",
   "execution_count": 8,
   "metadata": {},
   "outputs": [
    {
     "data": {
      "text/plain": [
       "2.7777777777777777"
      ]
     },
     "execution_count": 8,
     "metadata": {},
     "output_type": "execute_result"
    }
   ],
   "source": [
    "10000/3600"
   ]
  },
  {
   "cell_type": "code",
   "execution_count": 9,
   "metadata": {},
   "outputs": [
    {
     "data": {
      "text/plain": [
       "2800"
      ]
     },
     "execution_count": 9,
     "metadata": {},
     "output_type": "execute_result"
    }
   ],
   "source": [
    "10000%3600"
   ]
  },
  {
   "cell_type": "code",
   "execution_count": 1,
   "metadata": {
    "collapsed": true
   },
   "outputs": [],
   "source": [
    "function time(sec){\n",
    "    // dividing given sec by 3600 to get hours\n",
    "    let hr = sec/3600;\n",
    "    // modulus of remainder while dividing sec to hrs\n",
    "    let miny = sec%3600;\n",
    "    // dividing modulus by 60 to get mins\n",
    "    let min = miny/60;\n",
    "    // modulus of remainder while dividing sec to mins\n",
    "    let secy = miny%60;\n",
    "    // dividing modulus by1 to get seconds\n",
    "    let second = secy/1;\n",
    "    console.log(\"Hour minute and seconds is \", ~~hr,~~min,second);    \n",
    "}"
   ]
  },
  {
   "cell_type": "code",
   "execution_count": 2,
   "metadata": {},
   "outputs": [
    {
     "name": "stdout",
     "output_type": "stream",
     "text": [
      "******* 2.7777777777777777\n",
      "Hour minute and seconds is  2 46 40\n",
      "******* 13.88888888888889\n",
      "Hour minute and seconds is  13 53 20\n"
     ]
    }
   ],
   "source": [
    "time(10000);\n",
    "time(50000);"
   ]
  },
  {
   "cell_type": "code",
   "execution_count": null,
   "metadata": {
    "collapsed": true
   },
   "outputs": [],
   "source": []
  }
 ],
 "metadata": {
  "kernelspec": {
   "display_name": "Javascript (Node.js)",
   "language": "javascript",
   "name": "javascript"
  },
  "language_info": {
   "file_extension": ".js",
   "mimetype": "application/javascript",
   "name": "javascript",
   "version": "8.1.2"
  }
 },
 "nbformat": 4,
 "nbformat_minor": 2
}
