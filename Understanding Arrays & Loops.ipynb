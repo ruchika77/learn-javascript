{
 "cells": [
  {
   "cell_type": "markdown",
   "metadata": {},
   "source": [
    "# Arrays & loops"
   ]
  },
  {
   "cell_type": "markdown",
   "metadata": {},
   "source": [
    "### 1. Creating an Array"
   ]
  },
  {
   "cell_type": "markdown",
   "metadata": {},
   "source": [
    "#### 1.1 Create an array of 5 elements using an array literal"
   ]
  },
  {
   "cell_type": "code",
   "execution_count": 32,
   "metadata": {},
   "outputs": [
    {
     "name": "stdout",
     "output_type": "stream",
     "text": [
      "[ 'Red', 'Green', 'Yellow', 'Blue', 'Purple' ]\n"
     ]
    }
   ],
   "source": [
    "// your code here\n",
    "var colors = [\"Red\",\"Green\",\"Yellow\",\"Blue\",\"Purple\"];\n",
    "console.log(colors);"
   ]
  },
  {
   "cell_type": "markdown",
   "metadata": {},
   "source": [
    "#### 1.2 Create an array of 5 elements using new key word"
   ]
  },
  {
   "cell_type": "code",
   "execution_count": 33,
   "metadata": {},
   "outputs": [
    {
     "name": "stdout",
     "output_type": "stream",
     "text": [
      "[ 'Naga Raju', 'Swarupa', 'Shiva', 'Ruchika', 'Shweta' ]\n"
     ]
    }
   ],
   "source": [
    "// your code here\n",
    "var familyMembers = new Array(\"Naga Raju\",\"Swarupa\",\"Shiva\",\"Ruchika\",\"Shweta\");\n",
    "console.log(familyMembers);"
   ]
  },
  {
   "cell_type": "code",
   "execution_count": 34,
   "metadata": {},
   "outputs": [
    {
     "name": "stdout",
     "output_type": "stream",
     "text": [
      "[ 10, 20 ] [ <5 empty items> ]\n"
     ]
    }
   ],
   "source": [
    "var a = new Array(10,20); // [10,20]\n",
    "var b = new Array(5); // [undefined, undefined, undefined, undefined, undefined]\n",
    "\n",
    "console.log(a,b)\n",
    "\n",
    "// Never use new Array"
   ]
  },
  {
   "cell_type": "markdown",
   "metadata": {},
   "source": [
    "### 2. Access the Elements of an Array"
   ]
  },
  {
   "cell_type": "markdown",
   "metadata": {},
   "source": [
    "#### 2.1 Use index to print 3rd and 4th elements"
   ]
  },
  {
   "cell_type": "code",
   "execution_count": 35,
   "metadata": {},
   "outputs": [
    {
     "name": "stdout",
     "output_type": "stream",
     "text": [
      "3rd element is Yellow with index 2\n",
      "4th element is Blue with index 3\n"
     ]
    }
   ],
   "source": [
    "// your code here\n",
    "//var colors = [\"Red\",\"Green\",\"Yellow\",\"Blue\",\"Purple\"];\n",
    "console.log(\"3rd element is\",colors[2],\"with index 2\");\n",
    "console.log(\"4th element is\",colors[3], \"with index 3\");"
   ]
  },
  {
   "cell_type": "markdown",
   "metadata": {},
   "source": [
    "#### 2.2 Use for loop to print all elements"
   ]
  },
  {
   "cell_type": "code",
   "execution_count": 36,
   "metadata": {},
   "outputs": [
    {
     "name": "stdout",
     "output_type": "stream",
     "text": [
      "Red\n",
      "Green\n",
      "Yellow\n",
      "Blue\n",
      "Purple\n"
     ]
    }
   ],
   "source": [
    "// your for-loop here\n",
    "//var colors = [\"Red\",\"Green\",\"Yellow\",\"Blue\",\"Purple\"];\n",
    "for(let i=0; i<colors.length;i++){\n",
    "    console.log(colors[i]);\n",
    "}"
   ]
  },
  {
   "cell_type": "markdown",
   "metadata": {},
   "source": [
    "### 3. Array Properties and Methods"
   ]
  },
  {
   "cell_type": "code",
   "execution_count": 37,
   "metadata": {
    "collapsed": true
   },
   "outputs": [],
   "source": [
    "var fruits = [\"Banana\", \"Orange\", \"Apple\", \"Mango\"];"
   ]
  },
  {
   "cell_type": "code",
   "execution_count": 38,
   "metadata": {},
   "outputs": [
    {
     "data": {
      "text/plain": [
       "4"
      ]
     },
     "execution_count": 38,
     "metadata": {},
     "output_type": "execute_result"
    }
   ],
   "source": [
    "// what is the length of the fruits array\n",
    "fruits.length;"
   ]
  },
  {
   "cell_type": "code",
   "execution_count": 39,
   "metadata": {},
   "outputs": [
    {
     "data": {
      "text/plain": [
       "[ 'Apple', 'Banana', 'Mango', 'Orange' ]"
      ]
     },
     "execution_count": 39,
     "metadata": {},
     "output_type": "execute_result"
    }
   ],
   "source": [
    "// sort the fruits\n",
    "fruits.sort();"
   ]
  },
  {
   "cell_type": "markdown",
   "metadata": {},
   "source": [
    "#### 3.1 Write a program to find a given fruit is avaliable"
   ]
  },
  {
   "cell_type": "code",
   "execution_count": 40,
   "metadata": {
    "collapsed": true
   },
   "outputs": [],
   "source": [
    "function isAvaliable(aFruitName){\n",
    "    let result = false;\n",
    "    // your code here\n",
    "    for(let i=0;i<fruits.length;i++){\n",
    "        if(fruits[i]==aFruitName){\n",
    "            result=true;            \n",
    "        }   \n",
    "    }\n",
    "    return result;\n",
    "}"
   ]
  },
  {
   "cell_type": "code",
   "execution_count": 45,
   "metadata": {},
   "outputs": [
    {
     "data": {
      "text/plain": [
       "1"
      ]
     },
     "execution_count": 45,
     "metadata": {},
     "output_type": "execute_result"
    }
   ],
   "source": [
    "fruits.indexOf(\"Banana\");"
   ]
  },
  {
   "cell_type": "code",
   "execution_count": 46,
   "metadata": {},
   "outputs": [
    {
     "data": {
      "text/plain": [
       "[ 'Naga Raju', 'Ruchika', 'Shiva', 'Shweta', 'Swarupa' ]"
      ]
     },
     "execution_count": 46,
     "metadata": {},
     "output_type": "execute_result"
    }
   ],
   "source": [
    "familyMembers.sort();"
   ]
  },
  {
   "cell_type": "code",
   "execution_count": 42,
   "metadata": {},
   "outputs": [
    {
     "name": "stdout",
     "output_type": "stream",
     "text": [
      "false\n",
      "true\n"
     ]
    }
   ],
   "source": [
    "console.log(isAvaliable('Shiva')); // false\n",
    "console.log(isAvaliable('Apple')); // true"
   ]
  },
  {
   "cell_type": "markdown",
   "metadata": {},
   "source": [
    "### 4. Adding new elements using push & unshift"
   ]
  },
  {
   "cell_type": "code",
   "execution_count": 52,
   "metadata": {},
   "outputs": [
    {
     "name": "stdout",
     "output_type": "stream",
     "text": [
      "[ 'Car', 'Bicycle', 'MotorCycle', 'Truck' ]\n"
     ]
    }
   ],
   "source": [
    "// Use methods push & unshift and explain the difference\n",
    "var vehicle = [\"Car\",\"Bicycle\",\"MotorCycle\"]\n",
    "vehicle.push(\"Truck\");\n",
    "console.log(vehicle);"
   ]
  },
  {
   "cell_type": "code",
   "execution_count": 53,
   "metadata": {},
   "outputs": [
    {
     "name": "stdout",
     "output_type": "stream",
     "text": [
      "[ 'Bus', 'Car', 'Bicycle', 'MotorCycle', 'Truck' ]\n"
     ]
    }
   ],
   "source": [
    "vehicle.unshift(\"Bus\");\n",
    "console.log(vehicle);"
   ]
  },
  {
   "cell_type": "code",
   "execution_count": null,
   "metadata": {
    "collapsed": true
   },
   "outputs": [],
   "source": [
    "Push(LIFO) adds the element at the end of an array whereas Unshift(FIFO) adds it at first position"
   ]
  },
  {
   "cell_type": "markdown",
   "metadata": {},
   "source": [
    "### 5. Removing elements using pop & shift"
   ]
  },
  {
   "cell_type": "code",
   "execution_count": 54,
   "metadata": {},
   "outputs": [
    {
     "data": {
      "text/plain": [
       "'Truck'"
      ]
     },
     "execution_count": 54,
     "metadata": {},
     "output_type": "execute_result"
    }
   ],
   "source": [
    "// use methods pop & shift and explain the difference\n",
    "vehicle.pop();"
   ]
  },
  {
   "cell_type": "code",
   "execution_count": 55,
   "metadata": {},
   "outputs": [
    {
     "data": {
      "text/plain": [
       "'Bus'"
      ]
     },
     "execution_count": 55,
     "metadata": {},
     "output_type": "execute_result"
    }
   ],
   "source": [
    "vehicle.shift();"
   ]
  },
  {
   "cell_type": "code",
   "execution_count": null,
   "metadata": {
    "collapsed": true
   },
   "outputs": [],
   "source": [
    "Pop removes the last element of an array whereas shift deletes it from the first position"
   ]
  },
  {
   "cell_type": "markdown",
   "metadata": {
    "collapsed": true
   },
   "source": [
    "### 6. Every vs Some methods"
   ]
  },
  {
   "cell_type": "code",
   "execution_count": null,
   "metadata": {
    "collapsed": true
   },
   "outputs": [],
   "source": []
  },
  {
   "cell_type": "markdown",
   "metadata": {},
   "source": [
    "### 7. indexOf vs find"
   ]
  },
  {
   "cell_type": "code",
   "execution_count": null,
   "metadata": {
    "collapsed": true
   },
   "outputs": [],
   "source": []
  },
  {
   "cell_type": "markdown",
   "metadata": {},
   "source": [
    "### 8. MAX vs MIN"
   ]
  },
  {
   "cell_type": "code",
   "execution_count": null,
   "metadata": {
    "collapsed": true
   },
   "outputs": [],
   "source": []
  }
 ],
 "metadata": {
  "kernelspec": {
   "display_name": "Javascript (Node.js)",
   "language": "javascript",
   "name": "javascript"
  },
  "language_info": {
   "file_extension": ".js",
   "mimetype": "application/javascript",
   "name": "javascript",
   "version": "8.1.2"
  }
 },
 "nbformat": 4,
 "nbformat_minor": 2
}
