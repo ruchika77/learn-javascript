{
 "cells": [
  {
   "cell_type": "markdown",
   "metadata": {},
   "source": [
    "### Write a program that prints a multiplication table for numbers up to 12."
   ]
  },
  {
   "cell_type": "code",
   "execution_count": 15,
   "metadata": {
    "collapsed": true
   },
   "outputs": [],
   "source": [
    "function multiply(n){\n",
    "    for(var i=1;i<=12;i++){\n",
    "        var result=i*n;\n",
    "        console.log(n,\"*\",i,\"=\",result);\n",
    "    }\n",
    "    \n",
    "}"
   ]
  },
  {
   "cell_type": "code",
   "execution_count": 16,
   "metadata": {},
   "outputs": [
    {
     "name": "stdout",
     "output_type": "stream",
     "text": [
      "5 '*' 1 '=' 5\n",
      "5 '*' 2 '=' 10\n",
      "5 '*' 3 '=' 15\n",
      "5 '*' 4 '=' 20\n",
      "5 '*' 5 '=' 25\n",
      "5 '*' 6 '=' 30\n",
      "5 '*' 7 '=' 35\n",
      "5 '*' 8 '=' 40\n",
      "5 '*' 9 '=' 45\n",
      "5 '*' 10 '=' 50\n",
      "5 '*' 11 '=' 55\n",
      "5 '*' 12 '=' 60\n"
     ]
    }
   ],
   "source": [
    "multiply(5);"
   ]
  },
  {
   "cell_type": "code",
   "execution_count": null,
   "metadata": {
    "collapsed": true
   },
   "outputs": [],
   "source": []
  }
 ],
 "metadata": {
  "kernelspec": {
   "display_name": "Javascript (Node.js)",
   "language": "javascript",
   "name": "javascript"
  },
  "language_info": {
   "file_extension": ".js",
   "mimetype": "application/javascript",
   "name": "javascript",
   "version": "8.1.2"
  }
 },
 "nbformat": 4,
 "nbformat_minor": 2
}
